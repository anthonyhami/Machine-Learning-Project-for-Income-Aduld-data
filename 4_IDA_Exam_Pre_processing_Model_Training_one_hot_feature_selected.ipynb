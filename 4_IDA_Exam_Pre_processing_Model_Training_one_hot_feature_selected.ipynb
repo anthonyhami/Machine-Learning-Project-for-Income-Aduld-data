{
 "cells": [
  {
   "cell_type": "markdown",
   "id": "295bda37",
   "metadata": {},
   "source": [
    "# 4_IDA_Exam_Pre_processing_Model_Training_one_hot_feature_selected"
   ]
  },
  {
   "cell_type": "markdown",
   "id": "698e2717",
   "metadata": {},
   "source": [
    "Ähnliches Vorgehen wie bei 2_IDA_Exam_Pre_processing_Model_Training_numeric_feature_selected nur dieses mal mit one hot encoded\n",
    "\n",
    "Inhalt:\n",
    "\n",
    "- Data Preprocessing mit numerischer Umwandulung\n",
    "- Feature Selection\n",
    "- Train , Tune und Validate Models\n",
    "- Test Final Model\n",
    "- EDA der neuen Daten"
   ]
  },
  {
   "cell_type": "code",
   "execution_count": 1,
   "id": "abaecebb",
   "metadata": {},
   "outputs": [],
   "source": [
    "import pandas as pd\n",
    "import numpy as np\n",
    "import seaborn as sns\n",
    "import matplotlib.pyplot as plt\n",
    "%matplotlib inline"
   ]
  },
  {
   "cell_type": "code",
   "execution_count": 2,
   "id": "9eb8f3db",
   "metadata": {},
   "outputs": [],
   "source": [
    "df= pd.read_csv('einkommen.train', sep=\",\", na_values = \" ?\", header=None)\n",
    "\n",
    "columns = [\"Age\", \"Employment_type\", \"Interview_dependent\", \"Education_level\", \"Schooling/training_period\", \"Marital_Status\", \"Employment_area\", \"Partnership\", \"Ethnicity\", \"Gender\", \"Gains\", \"Losses\", \"Working_time_Weekly\", \"Country\", \"Income\"]\n",
    "df.columns = columns"
   ]
  },
  {
   "cell_type": "code",
   "execution_count": 3,
   "id": "7669cc08",
   "metadata": {},
   "outputs": [],
   "source": [
    "key = df[\"Income\"].isnull()  #https://stackoverflow.com/questions/36525020/how-to-filter-na-values-and-add-it-to-a-new-dataframe\n",
    "df_25000 = df.loc[key]\n",
    "df_5000 = df.loc[~key] # not na value"
   ]
  },
  {
   "cell_type": "code",
   "execution_count": 4,
   "id": "8944d481",
   "metadata": {},
   "outputs": [],
   "source": [
    "df_copy_new=df.copy()"
   ]
  },
  {
   "cell_type": "markdown",
   "id": "3767496a",
   "metadata": {},
   "source": [
    "# Löschen unwichtiger Features/Spalten"
   ]
  },
  {
   "cell_type": "code",
   "execution_count": 5,
   "id": "5308e2c4",
   "metadata": {},
   "outputs": [],
   "source": [
    "del df_copy_new['Country']"
   ]
  },
  {
   "cell_type": "code",
   "execution_count": 6,
   "id": "79e62cb0",
   "metadata": {},
   "outputs": [],
   "source": [
    "del df_copy_new['Ethnicity']"
   ]
  },
  {
   "cell_type": "code",
   "execution_count": 7,
   "id": "1687cdad",
   "metadata": {},
   "outputs": [
    {
     "name": "stdout",
     "output_type": "stream",
     "text": [
      " Private             20901\n",
      " Self-emp-not-inc     2363\n",
      " Local-gov            1928\n",
      " State-gov            1189\n",
      " Self-emp-inc         1037\n",
      " Federal-gov           887\n",
      " Without-pay            13\n",
      " Never-worked            5\n",
      "Name: Employment_type, dtype: int64\n"
     ]
    }
   ],
   "source": [
    "# counting unique items\n",
    "item_counts = df_copy_new[\"Employment_type\"].value_counts()\n",
    "print(item_counts) #max value nehmen"
   ]
  },
  {
   "cell_type": "code",
   "execution_count": 8,
   "id": "eef70562",
   "metadata": {},
   "outputs": [
    {
     "name": "stdout",
     "output_type": "stream",
     "text": [
      " Prof-specialty       3802\n",
      " Craft-repair         3784\n",
      " Exec-managerial      3736\n",
      " Adm-clerical         3507\n",
      " Sales                3370\n",
      " Other-service        3044\n",
      " Machine-op-inspct    1846\n",
      " Transport-moving     1473\n",
      " Handlers-cleaners    1252\n",
      " Farming-fishing       913\n",
      " Tech-support          856\n",
      " Protective-serv       583\n",
      " Priv-house-serv       144\n",
      " Armed-Forces            8\n",
      "Name: Employment_area, dtype: int64\n"
     ]
    }
   ],
   "source": [
    "item_counts = df_copy_new[\"Employment_area\"].value_counts()\n",
    "print(item_counts) #median nehmen "
   ]
  },
  {
   "cell_type": "markdown",
   "id": "a330b417",
   "metadata": {},
   "source": [
    "# Filling Missing Values für  Employment_type und Employment area"
   ]
  },
  {
   "cell_type": "code",
   "execution_count": 9,
   "id": "c8fa071d",
   "metadata": {},
   "outputs": [
    {
     "name": "stdout",
     "output_type": "stream",
     "text": [
      "[' State-gov' ' Self-emp-not-inc' ' Private' ' Federal-gov' ' Local-gov'\n",
      " ' Self-emp-inc' ' Without-pay' ' Never-worked']\n"
     ]
    }
   ],
   "source": [
    "# replacing values https://www.geeksforgeeks.org/how-to-convert-categorical-variable-to-numeric-in-pandas/\n",
    "labels = df_copy_new[\"Employment_type\"].dropna().unique()\n",
    "print(labels)\n",
    "df_copy_new['Employment_type'].replace(labels,\n",
    "                        list(range(1,len(labels)+1)), inplace=True) # +1 damit wir letzets Element bekommen"
   ]
  },
  {
   "cell_type": "code",
   "execution_count": 10,
   "id": "aa6dd733",
   "metadata": {},
   "outputs": [],
   "source": [
    "df_copy_new[\"Employment_type\"]=df_copy_new[\"Employment_type\"].fillna(3.0)"
   ]
  },
  {
   "cell_type": "markdown",
   "id": "69967658",
   "metadata": {},
   "source": [
    "# Converting numeric to object back Employment_type and FILL NA"
   ]
  },
  {
   "cell_type": "code",
   "execution_count": 11,
   "id": "7c794db0",
   "metadata": {},
   "outputs": [],
   "source": [
    "# replacing values https://www.geeksforgeeks.org/how-to-convert-categorical-variable-to-numeric-in-pandas/\n",
    "#labels = df_copy_new[\"Employment_type\"].dropna().unique()\n",
    "#print(labels)\n",
    "df_copy_new['Employment_type'].replace(list(range(1,len(labels)+1)),labels, inplace=True) \n",
    "# +1 damit wir letzets Element bekommen"
   ]
  },
  {
   "cell_type": "code",
   "execution_count": 12,
   "id": "ccdac8c8",
   "metadata": {},
   "outputs": [
    {
     "name": "stdout",
     "output_type": "stream",
     "text": [
      " Private             22578\n",
      " Self-emp-not-inc     2363\n",
      " Local-gov            1928\n",
      " State-gov            1189\n",
      " Self-emp-inc         1037\n",
      " Federal-gov           887\n",
      " Without-pay            13\n",
      " Never-worked            5\n",
      "Name: Employment_type, dtype: int64\n"
     ]
    }
   ],
   "source": [
    "item_counts = df_copy_new[\"Employment_type\"].value_counts()\n",
    "print(item_counts) #max value nehmen"
   ]
  },
  {
   "cell_type": "code",
   "execution_count": 13,
   "id": "0a5d2a66",
   "metadata": {},
   "outputs": [
    {
     "name": "stdout",
     "output_type": "stream",
     "text": [
      " Prof-specialty       3802\n",
      " Craft-repair         3784\n",
      " Exec-managerial      3736\n",
      " Adm-clerical         3507\n",
      " Sales                3370\n",
      " Other-service        3044\n",
      " Machine-op-inspct    1846\n",
      " Transport-moving     1473\n",
      " Handlers-cleaners    1252\n",
      " Farming-fishing       913\n",
      " Tech-support          856\n",
      " Protective-serv       583\n",
      " Priv-house-serv       144\n",
      " Armed-Forces            8\n",
      "Name: Employment_area, dtype: int64\n"
     ]
    }
   ],
   "source": [
    "item_counts = df_copy_new[\"Employment_area\"].value_counts()\n",
    "print(item_counts) "
   ]
  },
  {
   "cell_type": "code",
   "execution_count": 14,
   "id": "2b898e3b",
   "metadata": {},
   "outputs": [
    {
     "name": "stdout",
     "output_type": "stream",
     "text": [
      "[' Adm-clerical' ' Exec-managerial' ' Handlers-cleaners' ' Prof-specialty'\n",
      " ' Other-service' ' Sales' ' Craft-repair' ' Transport-moving'\n",
      " ' Farming-fishing' ' Machine-op-inspct' ' Tech-support'\n",
      " ' Protective-serv' ' Armed-Forces' ' Priv-house-serv']\n"
     ]
    }
   ],
   "source": [
    "labels = df_copy_new[\"Employment_area\"].dropna().unique()\n",
    "print(labels)\n",
    "df_copy_new['Employment_area'].replace(labels,\n",
    "                        list(range(1,len(labels)+1)), inplace=True) # +1 damit wir letzets Element bekommen"
   ]
  },
  {
   "cell_type": "code",
   "execution_count": 15,
   "id": "301d9479",
   "metadata": {},
   "outputs": [],
   "source": [
    "df_copy_new[\"Employment_area\"]=df_copy_new[\"Employment_area\"].fillna(10.0)"
   ]
  },
  {
   "cell_type": "code",
   "execution_count": 16,
   "id": "91421727",
   "metadata": {},
   "outputs": [
    {
     "name": "stdout",
     "output_type": "stream",
     "text": [
      "4.0     3802\n",
      "7.0     3784\n",
      "2.0     3736\n",
      "10.0    3528\n",
      "1.0     3507\n",
      "6.0     3370\n",
      "5.0     3044\n",
      "8.0     1473\n",
      "3.0     1252\n",
      "9.0      913\n",
      "11.0     856\n",
      "12.0     583\n",
      "14.0     144\n",
      "13.0       8\n",
      "Name: Employment_area, dtype: int64\n"
     ]
    }
   ],
   "source": [
    "item_counts = df_copy_new[\"Employment_area\"].value_counts()\n",
    "print(item_counts) "
   ]
  },
  {
   "cell_type": "code",
   "execution_count": 17,
   "id": "9bc08367",
   "metadata": {},
   "outputs": [
    {
     "name": "stdout",
     "output_type": "stream",
     "text": [
      "<class 'pandas.core.frame.DataFrame'>\n",
      "RangeIndex: 30000 entries, 0 to 29999\n",
      "Data columns (total 13 columns):\n",
      " #   Column                     Non-Null Count  Dtype  \n",
      "---  ------                     --------------  -----  \n",
      " 0   Age                        30000 non-null  int64  \n",
      " 1   Employment_type            30000 non-null  object \n",
      " 2   Interview_dependent        30000 non-null  int64  \n",
      " 3   Education_level            30000 non-null  object \n",
      " 4   Schooling/training_period  30000 non-null  int64  \n",
      " 5   Marital_Status             30000 non-null  object \n",
      " 6   Employment_area            30000 non-null  float64\n",
      " 7   Partnership                30000 non-null  object \n",
      " 8   Gender                     30000 non-null  object \n",
      " 9   Gains                      30000 non-null  int64  \n",
      " 10  Losses                     30000 non-null  int64  \n",
      " 11  Working_time_Weekly        30000 non-null  int64  \n",
      " 12  Income                     5000 non-null   object \n",
      "dtypes: float64(1), int64(6), object(6)\n",
      "memory usage: 3.0+ MB\n"
     ]
    }
   ],
   "source": [
    "df_copy_new.info()"
   ]
  },
  {
   "cell_type": "code",
   "execution_count": 18,
   "id": "c09cc241",
   "metadata": {},
   "outputs": [],
   "source": [
    "df_copy_new['Employment_area'].replace(list(range(1,len(labels)+1)),labels, inplace=True) \n",
    "# +1 damit wir letzets Element bekommen"
   ]
  },
  {
   "cell_type": "code",
   "execution_count": 19,
   "id": "fad09a5e",
   "metadata": {},
   "outputs": [
    {
     "name": "stdout",
     "output_type": "stream",
     "text": [
      " Prof-specialty       3802\n",
      " Craft-repair         3784\n",
      " Exec-managerial      3736\n",
      " Machine-op-inspct    3528\n",
      " Adm-clerical         3507\n",
      " Sales                3370\n",
      " Other-service        3044\n",
      " Transport-moving     1473\n",
      " Handlers-cleaners    1252\n",
      " Farming-fishing       913\n",
      " Tech-support          856\n",
      " Protective-serv       583\n",
      " Priv-house-serv       144\n",
      " Armed-Forces            8\n",
      "Name: Employment_area, dtype: int64\n"
     ]
    }
   ],
   "source": [
    "item_counts = df_copy_new[\"Employment_area\"].value_counts()\n",
    "print(item_counts) #max value nehmen"
   ]
  },
  {
   "cell_type": "code",
   "execution_count": 20,
   "id": "18a494ab",
   "metadata": {},
   "outputs": [
    {
     "name": "stdout",
     "output_type": "stream",
     "text": [
      "<class 'pandas.core.frame.DataFrame'>\n",
      "RangeIndex: 30000 entries, 0 to 29999\n",
      "Data columns (total 13 columns):\n",
      " #   Column                     Non-Null Count  Dtype \n",
      "---  ------                     --------------  ----- \n",
      " 0   Age                        30000 non-null  int64 \n",
      " 1   Employment_type            30000 non-null  object\n",
      " 2   Interview_dependent        30000 non-null  int64 \n",
      " 3   Education_level            30000 non-null  object\n",
      " 4   Schooling/training_period  30000 non-null  int64 \n",
      " 5   Marital_Status             30000 non-null  object\n",
      " 6   Employment_area            30000 non-null  object\n",
      " 7   Partnership                30000 non-null  object\n",
      " 8   Gender                     30000 non-null  object\n",
      " 9   Gains                      30000 non-null  int64 \n",
      " 10  Losses                     30000 non-null  int64 \n",
      " 11  Working_time_Weekly        30000 non-null  int64 \n",
      " 12  Income                     5000 non-null   object\n",
      "dtypes: int64(6), object(7)\n",
      "memory usage: 3.0+ MB\n"
     ]
    }
   ],
   "source": [
    "df_copy_new.info()"
   ]
  },
  {
   "cell_type": "markdown",
   "id": "4e69596f",
   "metadata": {},
   "source": [
    "# One hot encoding"
   ]
  },
  {
   "cell_type": "markdown",
   "id": "7a022b76",
   "metadata": {},
   "source": [
    "One hot entcoded da bei numerical das Model denkt das eien größere Zahlen als Klasse es wichtiger ist "
   ]
  },
  {
   "cell_type": "code",
   "execution_count": 21,
   "id": "dd93afd8",
   "metadata": {},
   "outputs": [],
   "source": [
    "#https://stackoverflow.com/questions/58101126/using-scikit-learn-onehotencoder-with-a-pandas-dataframe\n",
    "#https://stackabuse.com/one-hot-encoding-in-python-with-pandas-and-scikit-learn/\n",
    "\n",
    "\n",
    "df_copy_new= pd.get_dummies(df_copy_new,prefix=['Employment_type'], columns = ['Employment_type'], drop_first=True)"
   ]
  },
  {
   "cell_type": "code",
   "execution_count": 22,
   "id": "0633a932",
   "metadata": {},
   "outputs": [],
   "source": [
    "df_copy_new= pd.get_dummies(df_copy_new,prefix=['Education_level'], columns = ['Education_level'], drop_first=True)"
   ]
  },
  {
   "cell_type": "code",
   "execution_count": 23,
   "id": "1e785363",
   "metadata": {},
   "outputs": [],
   "source": [
    "df_copy_new= pd.get_dummies(df_copy_new,prefix=['Marital_Status'], columns = ['Marital_Status'], drop_first=True)"
   ]
  },
  {
   "cell_type": "code",
   "execution_count": 24,
   "id": "8e2617be",
   "metadata": {},
   "outputs": [],
   "source": [
    "df_copy_new= pd.get_dummies(df_copy_new,prefix=['Employment_area'], columns = ['Employment_area'], drop_first=True)"
   ]
  },
  {
   "cell_type": "code",
   "execution_count": 25,
   "id": "6398c794",
   "metadata": {},
   "outputs": [],
   "source": [
    "df_copy_new= pd.get_dummies(df_copy_new,prefix=['Partnership'], columns = ['Partnership'], drop_first=True)"
   ]
  },
  {
   "cell_type": "code",
   "execution_count": 26,
   "id": "8e530110",
   "metadata": {},
   "outputs": [],
   "source": [
    "df_copy_new= pd.get_dummies(df_copy_new,prefix=['Gender'], columns = ['Gender'], drop_first=True)"
   ]
  },
  {
   "cell_type": "markdown",
   "id": "9a2c6b2c",
   "metadata": {},
   "source": [
    "Alle Diskretenwerte wurden durch one hot encoding umgewandelt"
   ]
  },
  {
   "cell_type": "markdown",
   "id": "b56b9006",
   "metadata": {},
   "source": [
    "# Remove Duplicates"
   ]
  },
  {
   "cell_type": "code",
   "execution_count": 27,
   "id": "1cb47c9e",
   "metadata": {},
   "outputs": [],
   "source": [
    "df_copy_new= df_copy_new.drop_duplicates(keep='first')"
   ]
  },
  {
   "cell_type": "markdown",
   "id": "3c9f90e0",
   "metadata": {},
   "source": [
    "# Splitting data and label"
   ]
  },
  {
   "cell_type": "code",
   "execution_count": 28,
   "id": "a8e02c2e",
   "metadata": {},
   "outputs": [],
   "source": [
    "key = df_copy_new[\"Income\"].isnull()  #https://stackoverflow.com/questions/36525020/how-to-filter-na-values-and-add-it-to-a-new-dataframe\n",
    "df_25000 = df_copy_new.loc[key]\n",
    "df_5000 = df_copy_new.loc[~key] # not na value"
   ]
  },
  {
   "cell_type": "markdown",
   "id": "b588e792",
   "metadata": {},
   "source": [
    "# Converting Income into Numeric"
   ]
  },
  {
   "cell_type": "code",
   "execution_count": 29,
   "id": "b8b14ff5",
   "metadata": {},
   "outputs": [
    {
     "name": "stdout",
     "output_type": "stream",
     "text": [
      "[' <=50K' ' >50K']\n"
     ]
    },
    {
     "name": "stderr",
     "output_type": "stream",
     "text": [
      "/Users/anthonyfernando/opt/anaconda3/lib/python3.9/site-packages/pandas/core/generic.py:6619: SettingWithCopyWarning: \n",
      "A value is trying to be set on a copy of a slice from a DataFrame\n",
      "\n",
      "See the caveats in the documentation: https://pandas.pydata.org/pandas-docs/stable/user_guide/indexing.html#returning-a-view-versus-a-copy\n",
      "  return self._update_inplace(result)\n"
     ]
    }
   ],
   "source": [
    "labels = df_5000[\"Income\"].dropna().unique()\n",
    "print(labels)\n",
    "df_5000['Income'].replace(labels,\n",
    "                        list(range(0,len(labels))), inplace=True) # range(0) damit wir label 0 -1 haben"
   ]
  },
  {
   "cell_type": "markdown",
   "id": "c5c26720",
   "metadata": {},
   "source": [
    "# Feature Selection"
   ]
  },
  {
   "cell_type": "code",
   "execution_count": 30,
   "id": "b283135a",
   "metadata": {},
   "outputs": [],
   "source": [
    "label = df_5000['Income']\n",
    "df_x = df_5000.drop(columns=['Income'])"
   ]
  },
  {
   "cell_type": "code",
   "execution_count": 31,
   "id": "bd708b1f",
   "metadata": {},
   "outputs": [],
   "source": [
    "label=label.astype(bool) "
   ]
  },
  {
   "cell_type": "code",
   "execution_count": 32,
   "id": "3434170a",
   "metadata": {},
   "outputs": [],
   "source": [
    "import seaborn as sns\n",
    "from sklearn.ensemble import RandomForestClassifier\n",
    "from sklearn.ensemble import RandomForestRegressor\n",
    "from sklearn import metrics\n",
    "from sklearn.model_selection import train_test_split\n",
    "\n",
    "\n",
    "%matplotlib inline\n",
    "%load_ext autoreload\n",
    "%autoreload 2"
   ]
  },
  {
   "cell_type": "code",
   "execution_count": 33,
   "id": "c69aa057",
   "metadata": {},
   "outputs": [],
   "source": [
    "\n",
    "X_train, X_test, y_train, y_test = train_test_split(df_x , label, test_size=.33, random_state=42)\n",
    "\n",
    "tree = RandomForestClassifier()\n",
    "tree.fit(X_train, y_train)\n",
    "\n",
    "importances = tree.feature_importances_"
   ]
  },
  {
   "cell_type": "code",
   "execution_count": 34,
   "id": "c4715da1",
   "metadata": {},
   "outputs": [
    {
     "name": "stdout",
     "output_type": "stream",
     "text": [
      "Feature: 0, Score: 0.14541\n",
      "Feature: 1, Score: 0.14288\n",
      "Feature: 2, Score: 0.07640\n",
      "Feature: 3, Score: 0.09340\n",
      "Feature: 4, Score: 0.02823\n",
      "Feature: 5, Score: 0.08862\n",
      "Feature: 6, Score: 0.00717\n",
      "Feature: 7, Score: 0.00000\n",
      "Feature: 8, Score: 0.01616\n",
      "Feature: 9, Score: 0.00870\n",
      "Feature: 10, Score: 0.01072\n",
      "Feature: 11, Score: 0.00547\n",
      "Feature: 12, Score: 0.00000\n",
      "Feature: 13, Score: 0.00233\n",
      "Feature: 14, Score: 0.00067\n",
      "Feature: 15, Score: 0.00039\n",
      "Feature: 16, Score: 0.00067\n",
      "Feature: 17, Score: 0.00295\n",
      "Feature: 18, Score: 0.00153\n",
      "Feature: 19, Score: 0.00322\n",
      "Feature: 20, Score: 0.00453\n",
      "Feature: 21, Score: 0.01184\n",
      "Feature: 22, Score: 0.00418\n",
      "Feature: 23, Score: 0.00866\n",
      "Feature: 24, Score: 0.00578\n",
      "Feature: 25, Score: 0.00005\n",
      "Feature: 26, Score: 0.00598\n",
      "Feature: 27, Score: 0.00805\n",
      "Feature: 28, Score: 0.00008\n",
      "Feature: 29, Score: 0.11227\n",
      "Feature: 30, Score: 0.00184\n",
      "Feature: 31, Score: 0.03143\n",
      "Feature: 32, Score: 0.00143\n",
      "Feature: 33, Score: 0.00196\n",
      "Feature: 34, Score: 0.00000\n",
      "Feature: 35, Score: 0.00916\n",
      "Feature: 36, Score: 0.02685\n",
      "Feature: 37, Score: 0.00581\n",
      "Feature: 38, Score: 0.00263\n",
      "Feature: 39, Score: 0.00702\n",
      "Feature: 40, Score: 0.00725\n",
      "Feature: 41, Score: 0.00008\n",
      "Feature: 42, Score: 0.01595\n",
      "Feature: 43, Score: 0.00352\n",
      "Feature: 44, Score: 0.01261\n",
      "Feature: 45, Score: 0.00621\n",
      "Feature: 46, Score: 0.00707\n",
      "Feature: 47, Score: 0.01624\n",
      "Feature: 48, Score: 0.00181\n",
      "Feature: 49, Score: 0.00681\n",
      "Feature: 50, Score: 0.01051\n",
      "Feature: 51, Score: 0.01068\n",
      "Feature: 52, Score: 0.01681\n"
     ]
    },
    {
     "data": {
      "text/plain": [
       "([0,\n",
       "  1,\n",
       "  2,\n",
       "  3,\n",
       "  4,\n",
       "  5,\n",
       "  6,\n",
       "  7,\n",
       "  8,\n",
       "  9,\n",
       "  10,\n",
       "  11,\n",
       "  12,\n",
       "  13,\n",
       "  14,\n",
       "  15,\n",
       "  16,\n",
       "  17,\n",
       "  18,\n",
       "  19,\n",
       "  20,\n",
       "  21,\n",
       "  22,\n",
       "  23,\n",
       "  24,\n",
       "  25,\n",
       "  26,\n",
       "  27,\n",
       "  28,\n",
       "  29,\n",
       "  30,\n",
       "  31,\n",
       "  32,\n",
       "  33,\n",
       "  34,\n",
       "  35,\n",
       "  36,\n",
       "  37,\n",
       "  38,\n",
       "  39,\n",
       "  40,\n",
       "  41,\n",
       "  42,\n",
       "  43,\n",
       "  44,\n",
       "  45,\n",
       "  46,\n",
       "  47,\n",
       "  48,\n",
       "  49,\n",
       "  50,\n",
       "  51,\n",
       "  52],\n",
       " [Text(0, 0, ''),\n",
       "  Text(0, 0, ''),\n",
       "  Text(0, 0, ''),\n",
       "  Text(0, 0, ''),\n",
       "  Text(0, 0, ''),\n",
       "  Text(0, 0, ''),\n",
       "  Text(0, 0, ''),\n",
       "  Text(0, 0, ''),\n",
       "  Text(0, 0, ''),\n",
       "  Text(0, 0, ''),\n",
       "  Text(0, 0, ''),\n",
       "  Text(0, 0, ''),\n",
       "  Text(0, 0, ''),\n",
       "  Text(0, 0, ''),\n",
       "  Text(0, 0, ''),\n",
       "  Text(0, 0, ''),\n",
       "  Text(0, 0, ''),\n",
       "  Text(0, 0, ''),\n",
       "  Text(0, 0, ''),\n",
       "  Text(0, 0, ''),\n",
       "  Text(0, 0, ''),\n",
       "  Text(0, 0, ''),\n",
       "  Text(0, 0, ''),\n",
       "  Text(0, 0, ''),\n",
       "  Text(0, 0, ''),\n",
       "  Text(0, 0, ''),\n",
       "  Text(0, 0, ''),\n",
       "  Text(0, 0, ''),\n",
       "  Text(0, 0, ''),\n",
       "  Text(0, 0, ''),\n",
       "  Text(0, 0, ''),\n",
       "  Text(0, 0, ''),\n",
       "  Text(0, 0, ''),\n",
       "  Text(0, 0, ''),\n",
       "  Text(0, 0, ''),\n",
       "  Text(0, 0, ''),\n",
       "  Text(0, 0, ''),\n",
       "  Text(0, 0, ''),\n",
       "  Text(0, 0, ''),\n",
       "  Text(0, 0, ''),\n",
       "  Text(0, 0, ''),\n",
       "  Text(0, 0, ''),\n",
       "  Text(0, 0, ''),\n",
       "  Text(0, 0, ''),\n",
       "  Text(0, 0, ''),\n",
       "  Text(0, 0, ''),\n",
       "  Text(0, 0, ''),\n",
       "  Text(0, 0, ''),\n",
       "  Text(0, 0, ''),\n",
       "  Text(0, 0, ''),\n",
       "  Text(0, 0, ''),\n",
       "  Text(0, 0, ''),\n",
       "  Text(0, 0, '')])"
      ]
     },
     "execution_count": 34,
     "metadata": {},
     "output_type": "execute_result"
    },
    {
     "data": {
      "image/png": "[encoded data removed]",
      "text/plain": [
       "<Figure size 432x288 with 1 Axes>"
      ]
     },
     "metadata": {
      "needs_background": "light"
     },
     "output_type": "display_data"
    }
   ],
   "source": [
    "# summarize feature importance\n",
    "for i,v in enumerate(importances):\n",
    "    print('Feature: %0d, Score: %.5f' % (i,v))\n",
    "#plot feature importance\n",
    "#plt.bar([x for x in range(len(importances))], importances)\n",
    "plt.bar(df_x.columns,importances)\n",
    "plt.xticks(rotation=90)"
   ]
  },
  {
   "cell_type": "code",
   "execution_count": 35,
   "id": "4268366b",
   "metadata": {},
   "outputs": [],
   "source": [
    "features_value, features_name = zip(*sorted(zip(importances, df_x.columns),reverse=True))"
   ]
  },
  {
   "cell_type": "code",
   "execution_count": 36,
   "id": "0f915c9f",
   "metadata": {
    "scrolled": false
   },
   "outputs": [
    {
     "data": {
      "text/plain": [
       "([0,\n",
       "  1,\n",
       "  2,\n",
       "  3,\n",
       "  4,\n",
       "  5,\n",
       "  6,\n",
       "  7,\n",
       "  8,\n",
       "  9,\n",
       "  10,\n",
       "  11,\n",
       "  12,\n",
       "  13,\n",
       "  14,\n",
       "  15,\n",
       "  16,\n",
       "  17,\n",
       "  18,\n",
       "  19,\n",
       "  20,\n",
       "  21,\n",
       "  22,\n",
       "  23,\n",
       "  24,\n",
       "  25,\n",
       "  26,\n",
       "  27,\n",
       "  28,\n",
       "  29,\n",
       "  30,\n",
       "  31,\n",
       "  32,\n",
       "  33,\n",
       "  34,\n",
       "  35,\n",
       "  36,\n",
       "  37,\n",
       "  38,\n",
       "  39,\n",
       "  40,\n",
       "  41,\n",
       "  42,\n",
       "  43,\n",
       "  44,\n",
       "  45,\n",
       "  46,\n",
       "  47,\n",
       "  48,\n",
       "  49,\n",
       "  50,\n",
       "  51,\n",
       "  52],\n",
       " [Text(0, 0, ''),\n",
       "  Text(0, 0, ''),\n",
       "  Text(0, 0, ''),\n",
       "  Text(0, 0, ''),\n",
       "  Text(0, 0, ''),\n",
       "  Text(0, 0, ''),\n",
       "  Text(0, 0, ''),\n",
       "  Text(0, 0, ''),\n",
       "  Text(0, 0, ''),\n",
       "  Text(0, 0, ''),\n",
       "  Text(0, 0, ''),\n",
       "  Text(0, 0, ''),\n",
       "  Text(0, 0, ''),\n",
       "  Text(0, 0, ''),\n",
       "  Text(0, 0, ''),\n",
       "  Text(0, 0, ''),\n",
       "  Text(0, 0, ''),\n",
       "  Text(0, 0, ''),\n",
       "  Text(0, 0, ''),\n",
       "  Text(0, 0, ''),\n",
       "  Text(0, 0, ''),\n",
       "  Text(0, 0, ''),\n",
       "  Text(0, 0, ''),\n",
       "  Text(0, 0, ''),\n",
       "  Text(0, 0, ''),\n",
       "  Text(0, 0, ''),\n",
       "  Text(0, 0, ''),\n",
       "  Text(0, 0, ''),\n",
       "  Text(0, 0, ''),\n",
       "  Text(0, 0, ''),\n",
       "  Text(0, 0, ''),\n",
       "  Text(0, 0, ''),\n",
       "  Text(0, 0, ''),\n",
       "  Text(0, 0, ''),\n",
       "  Text(0, 0, ''),\n",
       "  Text(0, 0, ''),\n",
       "  Text(0, 0, ''),\n",
       "  Text(0, 0, ''),\n",
       "  Text(0, 0, ''),\n",
       "  Text(0, 0, ''),\n",
       "  Text(0, 0, ''),\n",
       "  Text(0, 0, ''),\n",
       "  Text(0, 0, ''),\n",
       "  Text(0, 0, ''),\n",
       "  Text(0, 0, ''),\n",
       "  Text(0, 0, ''),\n",
       "  Text(0, 0, ''),\n",
       "  Text(0, 0, ''),\n",
       "  Text(0, 0, ''),\n",
       "  Text(0, 0, ''),\n",
       "  Text(0, 0, ''),\n",
       "  Text(0, 0, ''),\n",
       "  Text(0, 0, '')])"
      ]
     },
     "execution_count": 36,
     "metadata": {},
     "output_type": "execute_result"
    },
    {
     "data": {
      "image/png": "[encoded data removed]",
      "text/plain": [
       "<Figure size 1152x576 with 1 Axes>"
      ]
     },
     "metadata": {
      "needs_background": "light"
     },
     "output_type": "display_data"
    }
   ],
   "source": [
    "fig = plt.figure(figsize=(16,8))\n",
    "plt.rcParams['font.size'] = 16\n",
    "plt.bar(features_name,features_value)\n",
    "plt.xticks(rotation=90)"
   ]
  },
  {
   "cell_type": "code",
   "execution_count": 37,
   "id": "6afcefc5",
   "metadata": {},
   "outputs": [],
   "source": [
    "important_features= features_name[:6]"
   ]
  },
  {
   "cell_type": "code",
   "execution_count": 38,
   "id": "3a85e17e",
   "metadata": {},
   "outputs": [
    {
     "data": {
      "text/plain": [
       "('Age',\n",
       " 'Interview_dependent',\n",
       " 'Marital_Status_ Married-civ-spouse',\n",
       " 'Gains',\n",
       " 'Working_time_Weekly',\n",
       " 'Schooling/training_period')"
      ]
     },
     "execution_count": 38,
     "metadata": {},
     "output_type": "execute_result"
    }
   ],
   "source": [
    "important_features"
   ]
  },
  {
   "cell_type": "markdown",
   "id": "d9fdd378",
   "metadata": {},
   "source": [
    "Es wurden die ersten 6 features genomme, da der score nach dem 6 viel schwächer ist"
   ]
  },
  {
   "cell_type": "markdown",
   "id": "ec2592d3",
   "metadata": {},
   "source": [
    "# Splitting Data and inport important features"
   ]
  },
  {
   "cell_type": "code",
   "execution_count": 39,
   "id": "b58eb928",
   "metadata": {},
   "outputs": [
    {
     "data": {
      "text/html": [
       "<div>\n",
       "<style scoped>\n",
       "    .dataframe tbody tr th:only-of-type {\n",
       "        vertical-align: middle;\n",
       "    }\n",
       "\n",
       "    .dataframe tbody tr th {\n",
       "        vertical-align: top;\n",
       "    }\n",
       "\n",
       "    .dataframe thead th {\n",
       "        text-align: right;\n",
       "    }\n",
       "</style>\n",
       "<table border=\"1\" class=\"dataframe\">\n",
       "  <thead>\n",
       "    <tr style=\"text-align: right;\">\n",
       "      <th></th>\n",
       "      <th>Income</th>\n",
       "    </tr>\n",
       "  </thead>\n",
       "  <tbody>\n",
       "    <tr>\n",
       "      <th>0</th>\n",
       "      <td>0</td>\n",
       "    </tr>\n",
       "    <tr>\n",
       "      <th>1</th>\n",
       "      <td>0</td>\n",
       "    </tr>\n",
       "    <tr>\n",
       "      <th>2</th>\n",
       "      <td>0</td>\n",
       "    </tr>\n",
       "    <tr>\n",
       "      <th>3</th>\n",
       "      <td>0</td>\n",
       "    </tr>\n",
       "    <tr>\n",
       "      <th>4</th>\n",
       "      <td>0</td>\n",
       "    </tr>\n",
       "    <tr>\n",
       "      <th>...</th>\n",
       "      <td>...</td>\n",
       "    </tr>\n",
       "    <tr>\n",
       "      <th>4995</th>\n",
       "      <td>0</td>\n",
       "    </tr>\n",
       "    <tr>\n",
       "      <th>4996</th>\n",
       "      <td>1</td>\n",
       "    </tr>\n",
       "    <tr>\n",
       "      <th>4997</th>\n",
       "      <td>1</td>\n",
       "    </tr>\n",
       "    <tr>\n",
       "      <th>4998</th>\n",
       "      <td>0</td>\n",
       "    </tr>\n",
       "    <tr>\n",
       "      <th>4999</th>\n",
       "      <td>0</td>\n",
       "    </tr>\n",
       "  </tbody>\n",
       "</table>\n",
       "<p>4999 rows × 1 columns</p>\n",
       "</div>"
      ],
      "text/plain": [
       "      Income\n",
       "0          0\n",
       "1          0\n",
       "2          0\n",
       "3          0\n",
       "4          0\n",
       "...      ...\n",
       "4995       0\n",
       "4996       1\n",
       "4997       1\n",
       "4998       0\n",
       "4999       0\n",
       "\n",
       "[4999 rows x 1 columns]"
      ]
     },
     "execution_count": 39,
     "metadata": {},
     "output_type": "execute_result"
    }
   ],
   "source": [
    "df_y=label.astype(int) \n",
    "df_y= pd.Series(df_y,name=\"Income\")\n",
    "\n",
    "df_y.to_frame()"
   ]
  },
  {
   "cell_type": "code",
   "execution_count": 40,
   "id": "94b27e7e",
   "metadata": {},
   "outputs": [],
   "source": [
    "X_train, X_test, y_train, y_test = train_test_split(df_x, df_y, test_size=.20, random_state=42)\n",
    "X_train, X_valid, y_train, y_valid = train_test_split(X_train, y_train, test_size=.30, random_state=42)"
   ]
  },
  {
   "cell_type": "markdown",
   "id": "4dc279d7",
   "metadata": {},
   "source": [
    "Date wurde auf train und gtest gesplitet ( 80% u. 20% )\n",
    "- Trainingsdaten nochmal gesplittet für HP tunen. ( 70 % u. 30%)"
   ]
  },
  {
   "cell_type": "code",
   "execution_count": 41,
   "id": "9253cf11",
   "metadata": {},
   "outputs": [
    {
     "name": "stdout",
     "output_type": "stream",
     "text": [
      "['Age', 'Interview_dependent', 'Marital_Status_ Married-civ-spouse', 'Gains', 'Working_time_Weekly', 'Schooling/training_period']\n",
      "<class 'list'>\n"
     ]
    }
   ],
   "source": [
    "important_features=list(important_features)\n",
    "print(important_features)\n",
    "print(type(important_features))"
   ]
  },
  {
   "cell_type": "code",
   "execution_count": 42,
   "id": "834ff5b8",
   "metadata": {},
   "outputs": [],
   "source": [
    "X_train_features = X_train[important_features]\n",
    "\n",
    "X_valid_features = X_valid[important_features]\n",
    "X_test_features = X_test[important_features]"
   ]
  },
  {
   "cell_type": "markdown",
   "id": "855f08d9",
   "metadata": {},
   "source": [
    "# Model Selection ( Training, Tuning Hyperparameter and Validate)"
   ]
  },
  {
   "cell_type": "code",
   "execution_count": 43,
   "id": "08cfd81f",
   "metadata": {},
   "outputs": [],
   "source": [
    "from sklearn.ensemble import RandomForestClassifier\n",
    "from sklearn.model_selection import KFold\n",
    "from sklearn.model_selection import cross_val_score\n",
    "from numpy import mean\n",
    "from numpy import std\n",
    "from sklearn.metrics import accuracy_score\n",
    "from sklearn.metrics import confusion_matrix\n",
    "from sklearn.metrics import f1_score"
   ]
  },
  {
   "cell_type": "markdown",
   "id": "ee2566c4",
   "metadata": {},
   "source": [
    "# Random Forest"
   ]
  },
  {
   "cell_type": "code",
   "execution_count": 44,
   "id": "dbe5a8aa",
   "metadata": {},
   "outputs": [
    {
     "name": "stdout",
     "output_type": "stream",
     "text": [
      "Train Accuracy:1 0.824 (0.007)\n",
      "Train Accuracy:2 0.822 (0.009)\n",
      "Train Accuracy:3 0.820 (0.010)\n",
      "Train Accuracy:4 0.829 (0.006)\n",
      "Train Accuracy:5 0.826 (0.008)\n",
      "Train Accuracy:6 0.829 (0.007)\n",
      "Train Accuracy:7 0.828 (0.004)\n",
      "Train Accuracy:8 0.829 (0.005)\n",
      "Train Accuracy:9 0.829 (0.006)\n",
      "Train Accuracy:10 0.827 (0.007)\n",
      "Train Accuracy:11 0.831 (0.005)\n",
      "Train Accuracy:12 0.830 (0.008)\n",
      "Train Accuracy:13 0.829 (0.008)\n",
      "Train Accuracy:14 0.831 (0.007)\n",
      "Train Accuracy:15 0.828 (0.012)\n",
      "Train Accuracy:16 0.830 (0.009)\n",
      "Train Accuracy:17 0.831 (0.009)\n",
      "Train Accuracy:18 0.828 (0.012)\n",
      "Train Accuracy:19 0.828 (0.010)\n",
      "Train Accuracy:20 0.827 (0.012)\n",
      "Train Accuracy:21 0.829 (0.009)\n",
      "Train Accuracy:22 0.829 (0.009)\n",
      "Train Accuracy:23 0.830 (0.008)\n",
      "Train Accuracy:24 0.829 (0.010)\n",
      "Train Accuracy:25 0.830 (0.007)\n",
      "Train Accuracy:26 0.831 (0.008)\n",
      "Train Accuracy:27 0.830 (0.008)\n",
      "Train Accuracy:28 0.831 (0.006)\n",
      "Train Accuracy:29 0.832 (0.007)\n",
      "Train Accuracy:30 0.832 (0.006)\n",
      "Train Accuracy:31 0.831 (0.008)\n",
      "Train Accuracy:32 0.831 (0.008)\n",
      "Train Accuracy:33 0.831 (0.008)\n",
      "Train Accuracy:34 0.831 (0.007)\n",
      "Train Accuracy:35 0.832 (0.008)\n",
      "Train Accuracy:36 0.832 (0.007)\n",
      "Train Accuracy:37 0.832 (0.007)\n",
      "Train Accuracy:38 0.833 (0.007)\n",
      "Train Accuracy:39 0.833 (0.007)\n",
      "Train Accuracy:40 0.833 (0.007)\n",
      "Train Accuracy:41 0.833 (0.006)\n",
      "Train Accuracy:42 0.832 (0.006)\n",
      "Train Accuracy:43 0.832 (0.006)\n",
      "Train Accuracy:44 0.832 (0.007)\n",
      "Train Accuracy:45 0.831 (0.007)\n",
      "Train Accuracy:46 0.833 (0.006)\n",
      "Train Accuracy:47 0.833 (0.006)\n",
      "Train Accuracy:48 0.832 (0.006)\n",
      "Train Accuracy:49 0.832 (0.007)\n",
      "Train Accuracy:50 0.831 (0.007)\n",
      "Train Accuracy:51 0.832 (0.007)\n",
      "Train Accuracy:52 0.833 (0.007)\n",
      "Train Accuracy:53 0.832 (0.007)\n",
      "Train Accuracy:54 0.832 (0.007)\n",
      "Train Accuracy:55 0.832 (0.007)\n",
      "Train Accuracy:56 0.832 (0.006)\n",
      "Train Accuracy:57 0.832 (0.006)\n",
      "Train Accuracy:58 0.832 (0.006)\n",
      "Train Accuracy:59 0.832 (0.007)\n",
      "Train Accuracy:60 0.832 (0.007)\n",
      "Train Accuracy:61 0.832 (0.007)\n",
      "Train Accuracy:62 0.832 (0.007)\n",
      "Train Accuracy:63 0.832 (0.008)\n",
      "Train Accuracy:64 0.833 (0.008)\n",
      "Train Accuracy:65 0.833 (0.008)\n",
      "Train Accuracy:66 0.833 (0.008)\n",
      "Train Accuracy:67 0.832 (0.008)\n",
      "Train Accuracy:68 0.832 (0.007)\n",
      "Train Accuracy:69 0.832 (0.008)\n",
      "Train Accuracy:70 0.832 (0.008)\n",
      "Train Accuracy:71 0.832 (0.007)\n",
      "Train Accuracy:72 0.832 (0.007)\n",
      "Train Accuracy:73 0.832 (0.008)\n",
      "Train Accuracy:74 0.832 (0.007)\n",
      "Train Accuracy:75 0.832 (0.007)\n",
      "Train Accuracy:76 0.832 (0.008)\n",
      "Train Accuracy:77 0.832 (0.008)\n",
      "Train Accuracy:78 0.832 (0.008)\n",
      "Train Accuracy:79 0.832 (0.008)\n",
      "Train Accuracy:80 0.832 (0.006)\n",
      "Train Accuracy:81 0.832 (0.008)\n",
      "Train Accuracy:82 0.832 (0.007)\n",
      "Train Accuracy:83 0.833 (0.008)\n",
      "Train Accuracy:84 0.834 (0.008)\n",
      "Train Accuracy:85 0.833 (0.008)\n",
      "Train Accuracy:86 0.833 (0.008)\n",
      "Train Accuracy:87 0.834 (0.008)\n",
      "Train Accuracy:88 0.833 (0.008)\n",
      "Train Accuracy:89 0.834 (0.008)\n",
      "Train Accuracy:90 0.834 (0.008)\n",
      "Train Accuracy:91 0.834 (0.008)\n",
      "Train Accuracy:92 0.834 (0.008)\n",
      "Train Accuracy:93 0.834 (0.008)\n",
      "Train Accuracy:94 0.834 (0.008)\n",
      "Train Accuracy:95 0.834 (0.008)\n",
      "Train Accuracy:96 0.834 (0.007)\n",
      "Train Accuracy:97 0.834 (0.007)\n",
      "Train Accuracy:98 0.834 (0.007)\n",
      "Train Accuracy:99 0.834 (0.006)\n",
      "Train Accuracy:100 0.834 (0.006)\n",
      "97\n"
     ]
    }
   ],
   "source": [
    "from sklearn import metrics\n",
    "cv = KFold(n_splits=5,)\n",
    "n_estimators_range= list(range(1, 101)) #107\n",
    "#max_depth_range=list(range(1,6)) # weniger tiefe weil wie viele Bäume haben  \n",
    "list_scores = []\n",
    "list_stds= []\n",
    "for n in n_estimators_range:\n",
    "    RFC = RandomForestClassifier(n_estimators=n,max_depth=4, random_state=0)\n",
    "    scores = cross_val_score(RFC ,X_train_features, y_train, scoring='accuracy', cv=cv)\n",
    "    print('Train Accuracy:%d %.3f (%.3f)' % (n,mean(scores), std(scores)))\n",
    "    list_scores.append(mean(scores))\n",
    "    list_stds.append(std(scores))\n",
    "        \n",
    "\n",
    "#print(list_scores)\n",
    "max_value = max(list_scores) #Return the max value of the list.\n",
    "max_index = list_scores.index(max_value) #Find the index of the max value.\n",
    "print(max_index)"
   ]
  },
  {
   "cell_type": "code",
   "execution_count": 45,
   "id": "2fddf1c9",
   "metadata": {},
   "outputs": [
    {
     "data": {
      "text/plain": [
       "Text(0, 0.5, 'Cross-Validated Accuracy')"
      ]
     },
     "execution_count": 45,
     "metadata": {},
     "output_type": "execute_result"
    },
    {
     "data": {
      "image/png": "[encoded data removed]",
      "text/plain": [
       "<Figure size 432x288 with 1 Axes>"
      ]
     },
     "metadata": {
      "needs_background": "light"
     },
     "output_type": "display_data"
    }
   ],
   "source": [
    "import matplotlib.pyplot as plt\n",
    "%matplotlib inline\n",
    "\n",
    "\n",
    "plt.plot(list(range(100)),list_scores)\n",
    "plt.xlabel('Value of n_estimator for Randomforest')\n",
    "plt.ylabel('Cross-Validated Accuracy')"
   ]
  },
  {
   "cell_type": "markdown",
   "id": "919e6f08",
   "metadata": {},
   "source": [
    " Bester Paramter ist 98 bei n_estimator"
   ]
  },
  {
   "cell_type": "code",
   "execution_count": 46,
   "id": "d68ade9f",
   "metadata": {},
   "outputs": [
    {
     "name": "stdout",
     "output_type": "stream",
     "text": [
      "Validation Accuracy: 0.845\n"
     ]
    }
   ],
   "source": [
    "RFC = RandomForestClassifier(n_estimators=98,max_depth=4, random_state=0)\n",
    "RFC.fit(X_train_features, y_train)\n",
    "y_pred = RFC.predict(X_valid_features)\n",
    "acc_score = accuracy_score(y_valid,y_pred)  \n",
    "print (\"Validation Accuracy: %.3f\" % (acc_score))"
   ]
  },
  {
   "cell_type": "code",
   "execution_count": 47,
   "id": "72e3efb0",
   "metadata": {},
   "outputs": [
    {
     "name": "stdout",
     "output_type": "stream",
     "text": [
      "Confusion Matrix: \n",
      "  [[880  49]\n",
      " [137 134]]\n",
      "\n",
      "Precision: 0.732\n",
      "Recall: 0.494\n",
      "F-1-Score: 0.590\n"
     ]
    }
   ],
   "source": [
    "from sklearn import metrics\n",
    "print (\"Confusion Matrix: \\n \" , confusion_matrix(y_valid,y_pred))\n",
    "print()\n",
    "print(\"Precision: %.3f\" % (metrics.precision_score(y_valid, y_pred)))\n",
    "print(\"Recall: %.3f\" % (metrics.recall_score(y_valid, y_pred)))\n",
    "print(\"F-1-Score: %.3f\" % ( metrics.f1_score(y_valid, y_pred)))"
   ]
  },
  {
   "cell_type": "markdown",
   "id": "9b802dbc",
   "metadata": {},
   "source": [
    "# Decision Tree"
   ]
  },
  {
   "cell_type": "code",
   "execution_count": 48,
   "id": "bbf8ac91",
   "metadata": {},
   "outputs": [
    {
     "name": "stdout",
     "output_type": "stream",
     "text": [
      "Train Accuracy:1 0.748 (0.015)\n",
      "Train Accuracy:2 0.796 (0.009)\n",
      "Train Accuracy:3 0.831 (0.010)\n",
      "Train Accuracy:4 0.834 (0.009)\n",
      "Train Accuracy:5 0.831 (0.009)\n",
      "Train Accuracy:6 0.825 (0.006)\n",
      "Train Accuracy:7 0.823 (0.008)\n",
      "Train Accuracy:8 0.818 (0.011)\n",
      "Train Accuracy:9 0.813 (0.017)\n",
      "Train Accuracy:10 0.806 (0.012)\n",
      "Train Accuracy:11 0.800 (0.018)\n",
      "Train Accuracy:12 0.802 (0.012)\n",
      "Train Accuracy:13 0.795 (0.006)\n",
      "Train Accuracy:14 0.798 (0.019)\n",
      "Train Accuracy:15 0.795 (0.013)\n",
      "Train Accuracy:16 0.791 (0.018)\n",
      "Train Accuracy:17 0.791 (0.011)\n",
      "Train Accuracy:18 0.791 (0.020)\n",
      "Train Accuracy:19 0.793 (0.010)\n",
      "Train Accuracy:20 0.798 (0.009)\n",
      "Train Accuracy:21 0.790 (0.013)\n",
      "Train Accuracy:22 0.792 (0.009)\n",
      "Train Accuracy:23 0.790 (0.012)\n",
      "Train Accuracy:24 0.787 (0.011)\n",
      "Train Accuracy:25 0.787 (0.011)\n",
      "Train Accuracy:26 0.788 (0.011)\n",
      "Train Accuracy:27 0.786 (0.014)\n",
      "Train Accuracy:28 0.787 (0.010)\n",
      "Train Accuracy:29 0.792 (0.015)\n",
      "Train Accuracy:30 0.789 (0.016)\n",
      "Train Accuracy:31 0.787 (0.011)\n",
      "Train Accuracy:32 0.791 (0.015)\n",
      "Train Accuracy:33 0.784 (0.009)\n",
      "Train Accuracy:34 0.789 (0.008)\n",
      "Train Accuracy:35 0.789 (0.006)\n",
      "Train Accuracy:36 0.788 (0.012)\n",
      "Train Accuracy:37 0.788 (0.014)\n",
      "Train Accuracy:38 0.785 (0.015)\n",
      "Train Accuracy:39 0.791 (0.012)\n",
      "Train Accuracy:40 0.791 (0.015)\n",
      "Train Accuracy:41 0.785 (0.015)\n",
      "Train Accuracy:42 0.788 (0.012)\n",
      "Train Accuracy:43 0.792 (0.019)\n",
      "Train Accuracy:44 0.789 (0.013)\n",
      "Train Accuracy:45 0.788 (0.012)\n",
      "Train Accuracy:46 0.787 (0.020)\n",
      "Train Accuracy:47 0.792 (0.014)\n",
      "Train Accuracy:48 0.793 (0.014)\n",
      "Train Accuracy:49 0.788 (0.011)\n",
      "Train Accuracy:50 0.788 (0.015)\n",
      "Train Accuracy:51 0.789 (0.016)\n",
      "Train Accuracy:52 0.791 (0.009)\n",
      "Train Accuracy:53 0.792 (0.016)\n",
      "3\n"
     ]
    }
   ],
   "source": [
    "from sklearn.tree import DecisionTreeClassifier, plot_tree\n",
    "max_depth_range=list(range(1,54))  \n",
    "list_scores = []\n",
    "list_stds= []\n",
    "for md in max_depth_range:\n",
    "    clf_tree = DecisionTreeClassifier(criterion='entropy', max_depth=md) \n",
    "    scores = cross_val_score(clf_tree ,X_train_features, y_train, scoring='accuracy', cv=cv)\n",
    "    print('Train Accuracy:%d %.3f (%.3f)' % (md,mean(scores), std(scores)))\n",
    "    list_scores.append(mean(scores))\n",
    "    list_stds.append(std(scores))\n",
    "        \n",
    "\n",
    "max_value = max(list_scores) #Return the max value of the list.\n",
    "max_index = list_scores.index(max_value) #Find the index of the max value.\n",
    "print(max_index)"
   ]
  },
  {
   "cell_type": "code",
   "execution_count": 49,
   "id": "2243af56",
   "metadata": {},
   "outputs": [
    {
     "data": {
      "text/plain": [
       "Text(0, 0.5, 'Cross-Validated Accuracy')"
      ]
     },
     "execution_count": 49,
     "metadata": {},
     "output_type": "execute_result"
    },
    {
     "data": {
      "image/png": "[encoded data removed]",
      "text/plain": [
       "<Figure size 432x288 with 1 Axes>"
      ]
     },
     "metadata": {
      "needs_background": "light"
     },
     "output_type": "display_data"
    }
   ],
   "source": [
    "import matplotlib.pyplot as plt\n",
    "%matplotlib inline\n",
    "\n",
    "# plot the value of K for KNN (x-axis) versus the cross-validated accuracy (y-axis)\n",
    "plt.plot(list(range(53)),list_scores)\n",
    "plt.xlabel('Value of max_depth for Decision Tree')\n",
    "plt.ylabel('Cross-Validated Accuracy')"
   ]
  },
  {
   "cell_type": "markdown",
   "id": "acca7b9a",
   "metadata": {},
   "source": [
    "Bester Paramter für die anzahl der Bäume ist 4"
   ]
  },
  {
   "cell_type": "code",
   "execution_count": 50,
   "id": "6033ed5e",
   "metadata": {},
   "outputs": [
    {
     "name": "stdout",
     "output_type": "stream",
     "text": [
      "Validation Accuracy: 0.848\n"
     ]
    }
   ],
   "source": [
    "clf_tree = DecisionTreeClassifier(criterion='entropy', max_depth=4)\n",
    "clf_tree.fit(X_train_features, y_train)\n",
    "y_pred = clf_tree.predict(X_valid_features)\n",
    "acc_score = accuracy_score(y_valid,y_pred)  \n",
    "print (\"Validation Accuracy: %.3f\" % (acc_score))"
   ]
  },
  {
   "cell_type": "code",
   "execution_count": 51,
   "id": "2be7ce67",
   "metadata": {},
   "outputs": [
    {
     "name": "stdout",
     "output_type": "stream",
     "text": [
      "Confusion Matrix: \n",
      "  [[879  50]\n",
      " [132 139]]\n",
      "\n",
      "Precision: 0.735\n",
      "Recall: 0.513\n",
      "F-1-Score: 0.604\n"
     ]
    }
   ],
   "source": [
    "from sklearn import metrics\n",
    "print (\"Confusion Matrix: \\n \" , confusion_matrix(y_valid,y_pred))\n",
    "print()\n",
    "print(\"Precision: %.3f\" % (metrics.precision_score(y_valid, y_pred)))\n",
    "print(\"Recall: %.3f\" % (metrics.recall_score(y_valid, y_pred)))\n",
    "print(\"F-1-Score: %.3f\" % ( metrics.f1_score(y_valid, y_pred)))"
   ]
  },
  {
   "cell_type": "markdown",
   "id": "a6918096",
   "metadata": {},
   "source": [
    "# SVM Classifier"
   ]
  },
  {
   "cell_type": "code",
   "execution_count": 52,
   "id": "bfa178c9",
   "metadata": {},
   "outputs": [
    {
     "name": "stdout",
     "output_type": "stream",
     "text": [
      "Train Accuracy:100.000 0.819 (0.005)\n",
      "Train Accuracy:10.000 0.827 (0.007)\n",
      "Train Accuracy:1.000 0.829 (0.008)\n",
      "Train Accuracy:0.100 0.817 (0.012)\n",
      "Train Accuracy:0.001 0.748 (0.015)\n",
      "2\n"
     ]
    }
   ],
   "source": [
    "from sklearn.svm import SVC\n",
    "from sklearn.pipeline import make_pipeline\n",
    "from sklearn.preprocessing import StandardScaler\n",
    "C_range=[100, 10, 1.0, 0.1, 0.001]\n",
    "list_scores = []\n",
    "list_stds= []\n",
    "for c in C_range:\n",
    "    svc  = make_pipeline(StandardScaler(), SVC(gamma='auto',C=c))\n",
    "    scores = cross_val_score(svc ,X_train_features, y_train, scoring='accuracy', cv=cv)\n",
    "    \n",
    "    print('Train Accuracy:%.3f %.3f (%.3f)' % (c,mean(scores), std(scores)))\n",
    "    list_scores.append(mean(scores))\n",
    "    list_stds.append(std(scores))\n",
    "        \n",
    "\n",
    "max_value = max(list_scores) #Return the max value of the list.\n",
    "max_index = list_scores.index(max_value) #Find the index of the max value.\n",
    "print(max_index)\n",
    "#beste immer Zahl plus 1 hier 2+1=3"
   ]
  },
  {
   "cell_type": "code",
   "execution_count": 53,
   "id": "6c6625a2",
   "metadata": {},
   "outputs": [
    {
     "data": {
      "text/plain": [
       "Text(0, 0.5, 'Cross-Validated Accuracy')"
      ]
     },
     "execution_count": 53,
     "metadata": {},
     "output_type": "execute_result"
    },
    {
     "data": {
      "image/png": "[encoded data removed]",
      "text/plain": [
       "<Figure size 432x288 with 1 Axes>"
      ]
     },
     "metadata": {
      "needs_background": "light"
     },
     "output_type": "display_data"
    }
   ],
   "source": [
    "import matplotlib.pyplot as plt\n",
    "%matplotlib inline\n",
    "\n",
    "# plot the value of K for KNN (x-axis) versus the cross-validated accuracy (y-axis)\n",
    "plt.plot(list(range(5)),list_scores)\n",
    "plt.xlabel('Value of c for SVM')\n",
    "plt.ylabel('Cross-Validated Accuracy')"
   ]
  },
  {
   "cell_type": "markdown",
   "id": "4833b407",
   "metadata": {},
   "source": [
    "Bester Parameter für C ist 1.0"
   ]
  },
  {
   "cell_type": "code",
   "execution_count": 54,
   "id": "350826dd",
   "metadata": {},
   "outputs": [
    {
     "name": "stdout",
     "output_type": "stream",
     "text": [
      "Validation Accuracy: 0.844\n"
     ]
    }
   ],
   "source": [
    "svc  = make_pipeline(StandardScaler(), SVC(gamma='auto',C=1.0))\n",
    "svc.fit(X_train_features,y_train)\n",
    "y_pred = svc .predict(X_valid_features)\n",
    "acc_score = accuracy_score(y_valid,y_pred)  \n",
    "print (\"Validation Accuracy: %.3f\" % (acc_score))"
   ]
  },
  {
   "cell_type": "code",
   "execution_count": 55,
   "id": "a1821083",
   "metadata": {},
   "outputs": [
    {
     "name": "stdout",
     "output_type": "stream",
     "text": [
      "Confusion Matrix: \n",
      "  [[877  52]\n",
      " [135 136]]\n",
      "\n",
      "Precision: 0.723\n",
      "Recall: 0.502\n",
      "F-1-Score: 0.593\n"
     ]
    }
   ],
   "source": [
    "from sklearn import metrics\n",
    "print (\"Confusion Matrix: \\n \" , confusion_matrix(y_valid,y_pred))\n",
    "print()\n",
    "print(\"Precision: %.3f\" % (metrics.precision_score(y_valid, y_pred)))\n",
    "print(\"Recall: %.3f\" % (metrics.recall_score(y_valid, y_pred)))\n",
    "print(\"F-1-Score: %.3f\" % ( metrics.f1_score(y_valid, y_pred)))"
   ]
  },
  {
   "cell_type": "markdown",
   "id": "25e59db0",
   "metadata": {},
   "source": [
    "# Logistic Regression"
   ]
  },
  {
   "cell_type": "code",
   "execution_count": 56,
   "id": "6a72f17a",
   "metadata": {},
   "outputs": [
    {
     "name": "stdout",
     "output_type": "stream",
     "text": [
      "Train Accuracy:100.000 0.785 (0.012)\n",
      "Train Accuracy:10.000 0.785 (0.012)\n",
      "Train Accuracy:1.000 0.785 (0.012)\n",
      "Train Accuracy:0.100 0.784 (0.014)\n",
      "Train Accuracy:0.001 0.789 (0.010)\n",
      "4\n"
     ]
    },
    {
     "name": "stderr",
     "output_type": "stream",
     "text": [
      "/Users/anthonyfernando/opt/anaconda3/lib/python3.9/site-packages/sklearn/linear_model/_logistic.py:763: ConvergenceWarning: lbfgs failed to converge (status=1):\n",
      "STOP: TOTAL NO. of ITERATIONS REACHED LIMIT.\n",
      "\n",
      "Increase the number of iterations (max_iter) or scale the data as shown in:\n",
      "    https://scikit-learn.org/stable/modules/preprocessing.html\n",
      "Please also refer to the documentation for alternative solver options:\n",
      "    https://scikit-learn.org/stable/modules/linear_model.html#logistic-regression\n",
      "  n_iter_i = _check_optimize_result(\n"
     ]
    }
   ],
   "source": [
    "from sklearn.linear_model import LogisticRegression\n",
    "C_range=[100, 10, 1.0, 0.1, 0.001]\n",
    "list_scores = []\n",
    "list_stds= []\n",
    "for c in C_range:\n",
    "    LoR = LogisticRegression(penalty=\"l2\",C=c)\n",
    "    scores = cross_val_score(LoR ,X_train_features, y_train, scoring='accuracy', cv=cv)\n",
    "    \n",
    "    print('Train Accuracy:%.3f %.3f (%.3f)' % (c,mean(scores), std(scores)))\n",
    "    list_scores.append(mean(scores))\n",
    "    list_stds.append(std(scores))\n",
    "        \n",
    "\n",
    "max_value = max(list_scores) #Return the max value of the list.\n",
    "max_index = list_scores.index(max_value) #Find the index of the max value.\n",
    "print(max_index)"
   ]
  },
  {
   "cell_type": "code",
   "execution_count": 57,
   "id": "13112a59",
   "metadata": {},
   "outputs": [
    {
     "data": {
      "text/plain": [
       "Text(0, 0.5, 'Cross-Validated Accuracy')"
      ]
     },
     "execution_count": 57,
     "metadata": {},
     "output_type": "execute_result"
    },
    {
     "data": {
      "image/png": "[encoded data removed]",
      "text/plain": [
       "<Figure size 432x288 with 1 Axes>"
      ]
     },
     "metadata": {
      "needs_background": "light"
     },
     "output_type": "display_data"
    }
   ],
   "source": [
    "import matplotlib.pyplot as plt\n",
    "%matplotlib inline\n",
    "\n",
    "# plot the value of K for KNN (x-axis) versus the cross-validated accuracy (y-axis)\n",
    "plt.plot(list(range(5)),list_scores)\n",
    "plt.xlabel('Value of C for LG')\n",
    "plt.ylabel('Cross-Validated Accuracy')"
   ]
  },
  {
   "cell_type": "markdown",
   "id": "5a1aeac1",
   "metadata": {},
   "source": [
    "Bester Paramter für C ist 0.001"
   ]
  },
  {
   "cell_type": "code",
   "execution_count": 58,
   "id": "8759508c",
   "metadata": {},
   "outputs": [
    {
     "name": "stdout",
     "output_type": "stream",
     "text": [
      "Validation Accuracy: 0.797\n"
     ]
    }
   ],
   "source": [
    "LoR = LogisticRegression(penalty=\"l2\",C=0.001)\n",
    "LoR.fit(X_train_features,y_train)\n",
    "y_pred = LoR.predict(X_valid_features)\n",
    "acc_score = accuracy_score(y_valid,y_pred)  \n",
    "print (\"Validation Accuracy: %.3f\" % (acc_score))"
   ]
  },
  {
   "cell_type": "code",
   "execution_count": 59,
   "id": "42266db6",
   "metadata": {},
   "outputs": [
    {
     "name": "stdout",
     "output_type": "stream",
     "text": [
      "Confusion Matrix: \n",
      "  [[908  21]\n",
      " [222  49]]\n",
      "\n",
      "Precision: 0.700\n",
      "Recall: 0.181\n",
      "F-1-Score: 0.287\n"
     ]
    }
   ],
   "source": [
    "from sklearn import metrics\n",
    "print (\"Confusion Matrix: \\n \" , confusion_matrix(y_valid,y_pred))\n",
    "print()\n",
    "print(\"Precision: %.3f\" % (metrics.precision_score(y_valid, y_pred)))\n",
    "print(\"Recall: %.3f\" % (metrics.recall_score(y_valid, y_pred)))\n",
    "print(\"F-1-Score: %.3f\" % ( metrics.f1_score(y_valid, y_pred)))"
   ]
  },
  {
   "cell_type": "markdown",
   "id": "ddcc5f21",
   "metadata": {},
   "source": [
    "# Final Model Testing"
   ]
  },
  {
   "cell_type": "markdown",
   "id": "126590c0",
   "metadata": {},
   "source": [
    "Es wurde sich für Decision tree entschieden auf basis des F1 scores und der ACC"
   ]
  },
  {
   "cell_type": "code",
   "execution_count": 65,
   "id": "fc5961a1",
   "metadata": {},
   "outputs": [],
   "source": [
    "predictions = clf_tree.predict(X_test_features)"
   ]
  },
  {
   "cell_type": "code",
   "execution_count": 66,
   "id": "b2728721",
   "metadata": {},
   "outputs": [
    {
     "name": "stdout",
     "output_type": "stream",
     "text": [
      "Test Accuracy: 0.853\n",
      "\n",
      "Confusion Matrix: \n",
      "  [[719  36]\n",
      " [111 134]]\n",
      "\n",
      "Precision: 0.788\n",
      "Recall: 0.547\n",
      "F-1-Score: 0.646\n"
     ]
    }
   ],
   "source": [
    "acc_score = accuracy_score(y_test,predictions)  \n",
    "print (\"Test Accuracy: %.3f\" % (acc_score))\n",
    "print()\n",
    "print (\"Confusion Matrix: \\n \" , confusion_matrix(y_test,predictions))\n",
    "print()\n",
    "print(\"Precision: %.3f\" % (metrics.precision_score(y_test,predictions)))\n",
    "print(\"Recall: %.3f\" % (metrics.recall_score(y_test,predictions)))\n",
    "print(\"F-1-Score: %.3f\" % ( metrics.f1_score(y_test,predictions)))"
   ]
  },
  {
   "cell_type": "code",
   "execution_count": 67,
   "id": "7a3e4963",
   "metadata": {},
   "outputs": [
    {
     "data": {
      "image/png": "[encoded data removed]",
      "text/plain": [
       "<Figure size 432x288 with 2 Axes>"
      ]
     },
     "metadata": {
      "needs_background": "light"
     },
     "output_type": "display_data"
    },
    {
     "name": "stdout",
     "output_type": "stream",
     "text": [
      "              precision    recall  f1-score   support\n",
      "\n",
      "           0       0.87      0.95      0.91       755\n",
      "           1       0.79      0.55      0.65       245\n",
      "\n",
      "    accuracy                           0.85      1000\n",
      "   macro avg       0.83      0.75      0.78      1000\n",
      "weighted avg       0.85      0.85      0.84      1000\n",
      "\n"
     ]
    }
   ],
   "source": [
    "#https://www.jcchouinard.com/confusion-matrix-in-scikit-learn/\n",
    "from sklearn.metrics import plot_confusion_matrix\n",
    "from sklearn.metrics import classification_report\n",
    "plot_confusion_matrix(clf_tree, X_test_features, y_test, cmap=plt.cm.Blues)\n",
    "plt.show()\n",
    "\n",
    "print(classification_report(y_test,predictions))"
   ]
  },
  {
   "cell_type": "markdown",
   "id": "c7bf8f3d",
   "metadata": {},
   "source": [
    "# Ploting ROC und berechne AUC"
   ]
  },
  {
   "cell_type": "code",
   "execution_count": 70,
   "id": "a8848999",
   "metadata": {},
   "outputs": [
    {
     "data": {
      "text/plain": [
       "<sklearn.metrics._plot.roc_curve.RocCurveDisplay at 0x7f91b81499d0>"
      ]
     },
     "execution_count": 70,
     "metadata": {},
     "output_type": "execute_result"
    },
    {
     "data": {
      "image/png": "[encoded data removed]",
      "text/plain": [
       "<Figure size 432x288 with 1 Axes>"
      ]
     },
     "metadata": {
      "needs_background": "light"
     },
     "output_type": "display_data"
    }
   ],
   "source": [
    "from sklearn import datasets, metrics, model_selection\n",
    "metrics.plot_roc_curve(clf_tree, X_test_features, y_test) \n",
    "\n",
    "# It tells how much the model is capable of distinguishing between classes.\n",
    "#Higher the AUC, the better the model is at predicting 0 classes as 0 and 1 classes as 1.\n",
    "#By analogy, the Higher the AUC, the better the model is at distinguishing between patients with the disease and no disease."
   ]
  },
  {
   "cell_type": "code",
   "execution_count": 71,
   "id": "75edaf24",
   "metadata": {},
   "outputs": [],
   "source": [
    "X_25000_features = df_25000[important_features]"
   ]
  },
  {
   "cell_type": "code",
   "execution_count": 72,
   "id": "88ec0ce4",
   "metadata": {},
   "outputs": [
    {
     "data": {
      "text/plain": [
       "(24982, 6)"
      ]
     },
     "execution_count": 72,
     "metadata": {},
     "output_type": "execute_result"
    }
   ],
   "source": [
    "X_25000_features.shape"
   ]
  },
  {
   "cell_type": "code",
   "execution_count": 73,
   "id": "edd146c8",
   "metadata": {},
   "outputs": [],
   "source": [
    "Final_predictions25000 = clf_tree.predict(X_25000_features)"
   ]
  },
  {
   "cell_type": "code",
   "execution_count": 74,
   "id": "640fcca4",
   "metadata": {},
   "outputs": [],
   "source": [
    "df_Final_predictions25000= pd.DataFrame(Final_predictions25000, columns=['Income'])"
   ]
  },
  {
   "cell_type": "code",
   "execution_count": 75,
   "id": "fe3065d0",
   "metadata": {},
   "outputs": [
    {
     "data": {
      "text/html": [
       "<div>\n",
       "<style scoped>\n",
       "    .dataframe tbody tr th:only-of-type {\n",
       "        vertical-align: middle;\n",
       "    }\n",
       "\n",
       "    .dataframe tbody tr th {\n",
       "        vertical-align: top;\n",
       "    }\n",
       "\n",
       "    .dataframe thead th {\n",
       "        text-align: right;\n",
       "    }\n",
       "</style>\n",
       "<table border=\"1\" class=\"dataframe\">\n",
       "  <thead>\n",
       "    <tr style=\"text-align: right;\">\n",
       "      <th></th>\n",
       "      <th>Income</th>\n",
       "    </tr>\n",
       "  </thead>\n",
       "  <tbody>\n",
       "    <tr>\n",
       "      <th>0</th>\n",
       "      <td>1</td>\n",
       "    </tr>\n",
       "    <tr>\n",
       "      <th>1</th>\n",
       "      <td>0</td>\n",
       "    </tr>\n",
       "    <tr>\n",
       "      <th>2</th>\n",
       "      <td>0</td>\n",
       "    </tr>\n",
       "    <tr>\n",
       "      <th>3</th>\n",
       "      <td>0</td>\n",
       "    </tr>\n",
       "    <tr>\n",
       "      <th>4</th>\n",
       "      <td>0</td>\n",
       "    </tr>\n",
       "    <tr>\n",
       "      <th>...</th>\n",
       "      <td>...</td>\n",
       "    </tr>\n",
       "    <tr>\n",
       "      <th>24977</th>\n",
       "      <td>0</td>\n",
       "    </tr>\n",
       "    <tr>\n",
       "      <th>24978</th>\n",
       "      <td>0</td>\n",
       "    </tr>\n",
       "    <tr>\n",
       "      <th>24979</th>\n",
       "      <td>0</td>\n",
       "    </tr>\n",
       "    <tr>\n",
       "      <th>24980</th>\n",
       "      <td>0</td>\n",
       "    </tr>\n",
       "    <tr>\n",
       "      <th>24981</th>\n",
       "      <td>0</td>\n",
       "    </tr>\n",
       "  </tbody>\n",
       "</table>\n",
       "<p>24982 rows × 1 columns</p>\n",
       "</div>"
      ],
      "text/plain": [
       "       Income\n",
       "0           1\n",
       "1           0\n",
       "2           0\n",
       "3           0\n",
       "4           0\n",
       "...       ...\n",
       "24977       0\n",
       "24978       0\n",
       "24979       0\n",
       "24980       0\n",
       "24981       0\n",
       "\n",
       "[24982 rows x 1 columns]"
      ]
     },
     "execution_count": 75,
     "metadata": {},
     "output_type": "execute_result"
    }
   ],
   "source": [
    "df_Final_predictions25000"
   ]
  },
  {
   "cell_type": "code",
   "execution_count": 76,
   "id": "d802041b",
   "metadata": {},
   "outputs": [
    {
     "name": "stderr",
     "output_type": "stream",
     "text": [
      "/var/folders/88/lkbjvmyj48n6h04_m1x2v3km0000gn/T/ipykernel_6745/3759895927.py:1: SettingWithCopyWarning: \n",
      "A value is trying to be set on a copy of a slice from a DataFrame.\n",
      "Try using .loc[row_indexer,col_indexer] = value instead\n",
      "\n",
      "See the caveats in the documentation: https://pandas.pydata.org/pandas-docs/stable/user_guide/indexing.html#returning-a-view-versus-a-copy\n",
      "  df_25000['Income'] = df_Final_predictions25000['Income'].values\n"
     ]
    }
   ],
   "source": [
    "df_25000['Income'] = df_Final_predictions25000['Income'].values"
   ]
  },
  {
   "cell_type": "code",
   "execution_count": 77,
   "id": "384002ad",
   "metadata": {},
   "outputs": [],
   "source": [
    "frames_new = [df_25000,df_5000 ]\n",
    "\n",
    "result_new = pd.concat(frames_new)"
   ]
  },
  {
   "cell_type": "code",
   "execution_count": 78,
   "id": "ea593fd5",
   "metadata": {},
   "outputs": [
    {
     "data": {
      "text/plain": [
       "<AxesSubplot:xlabel='Income', ylabel='count'>"
      ]
     },
     "execution_count": 78,
     "metadata": {},
     "output_type": "execute_result"
    },
    {
     "data": {
      "image/png": "[encoded data removed]",
      "text/plain": [
       "<Figure size 432x288 with 1 Axes>"
      ]
     },
     "metadata": {
      "needs_background": "light"
     },
     "output_type": "display_data"
    }
   ],
   "source": [
    "sns.countplot(x=\"Income\",data=df_25000)"
   ]
  },
  {
   "cell_type": "code",
   "execution_count": 79,
   "id": "6acce2d7",
   "metadata": {},
   "outputs": [
    {
     "data": {
      "text/plain": [
       "<AxesSubplot:xlabel='Income', ylabel='count'>"
      ]
     },
     "execution_count": 79,
     "metadata": {},
     "output_type": "execute_result"
    },
    {
     "data": {
      "image/png": "[encoded data removed]",
      "text/plain": [
       "<Figure size 432x288 with 1 Axes>"
      ]
     },
     "metadata": {
      "needs_background": "light"
     },
     "output_type": "display_data"
    }
   ],
   "source": [
    "sns.countplot(x=\"Income\",data=df_5000)"
   ]
  },
  {
   "cell_type": "code",
   "execution_count": 80,
   "id": "e4aede19",
   "metadata": {},
   "outputs": [
    {
     "data": {
      "text/plain": [
       "<AxesSubplot:xlabel='Income', ylabel='count'>"
      ]
     },
     "execution_count": 80,
     "metadata": {},
     "output_type": "execute_result"
    },
    {
     "data": {
      "image/png": "[encoded data removed]",
      "text/plain": [
       "<Figure size 432x288 with 1 Axes>"
      ]
     },
     "metadata": {
      "needs_background": "light"
     },
     "output_type": "display_data"
    }
   ],
   "source": [
    "sns.countplot(x=\"Income\",data=result_new)"
   ]
  },
  {
   "cell_type": "code",
   "execution_count": 81,
   "id": "18a00584",
   "metadata": {},
   "outputs": [
    {
     "name": "stdout",
     "output_type": "stream",
     "text": [
      "0    20860\n",
      "1     4122\n",
      "Name: Income, dtype: int64\n",
      "0    3778\n",
      "1    1221\n",
      "Name: Income, dtype: int64\n",
      "0    24638\n",
      "1     5343\n",
      "Name: Income, dtype: int64\n"
     ]
    }
   ],
   "source": [
    "print(df_25000[\"Income\"].value_counts())\n",
    "print(df_5000[\"Income\"].value_counts())\n",
    "print(result_new[\"Income\"].value_counts())"
   ]
  },
  {
   "cell_type": "code",
   "execution_count": 82,
   "id": "8d08ce70",
   "metadata": {},
   "outputs": [
    {
     "name": "stdout",
     "output_type": "stream",
     "text": [
      "0    0.835001\n",
      "1    0.164999\n",
      "Name: Income, dtype: float64\n",
      "0    0.755751\n",
      "1    0.244249\n",
      "Name: Income, dtype: float64\n",
      "0    0.821787\n",
      "1    0.178213\n",
      "Name: Income, dtype: float64\n"
     ]
    }
   ],
   "source": [
    "print(df_25000[\"Income\"].value_counts()/len(df_25000))\n",
    "print(df_5000[\"Income\"].value_counts()/len(df_5000))\n",
    "print(result_new[\"Income\"].value_counts()/len(result_new))"
   ]
  },
  {
   "cell_type": "markdown",
   "id": "7100e525",
   "metadata": {},
   "source": [
    "Wieder weniger 1 vorhergesagt"
   ]
  }
 ],
 "metadata": {
  "kernelspec": {
   "display_name": "Python 3 (ipykernel)",
   "language": "python",
   "name": "python3"
  },
  "language_info": {
   "codemirror_mode": {
    "name": "ipython",
    "version": 3
   },
   "file_extension": ".py",
   "mimetype": "text/x-python",
   "name": "python",
   "nbconvert_exporter": "python",
   "pygments_lexer": "ipython3",
   "version": "3.9.7"
  }
 },
 "nbformat": 4,
 "nbformat_minor": 5
}
