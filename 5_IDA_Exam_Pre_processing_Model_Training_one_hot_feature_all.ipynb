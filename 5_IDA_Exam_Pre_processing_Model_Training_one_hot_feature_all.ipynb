{
 "cells": [
  {
   "cell_type": "markdown",
   "id": "3985fdef",
   "metadata": {},
   "source": [
    "# 5_IDA_Exam_Pre_processing_Model_Training_one_hot_feature_all"
   ]
  },
  {
   "cell_type": "markdown",
   "id": "c632da64",
   "metadata": {},
   "source": [
    "Ähnlich wie 3_IDA_Exam_Pre_processing_Model_Training_numeric_all nur mit one hot encoded \n",
    "- zu 43(Model Selection ( Training, Tuning Hyperparameter and Validate)) springen da rest pre processing ist\n",
    "\n",
    "Inhalt:\n",
    "- Data Preprocessing mit numerischer Umwandulung\n",
    "- Train , Tune und Validate Models\n",
    "- Test Final Model\n",
    "- EDA der neuen Daten"
   ]
  },
  {
   "cell_type": "code",
   "execution_count": 1,
   "id": "bf7e9d7b",
   "metadata": {},
   "outputs": [],
   "source": [
    "import pandas as pd\n",
    "import numpy as np\n",
    "import seaborn as sns\n",
    "import matplotlib.pyplot as plt\n",
    "%matplotlib inline"
   ]
  },
  {
   "cell_type": "code",
   "execution_count": 2,
   "id": "5e3c9792",
   "metadata": {},
   "outputs": [],
   "source": [
    "df= pd.read_csv('einkommen.train', sep=\",\", na_values = \" ?\", header=None)\n",
    "\n",
    "columns = [\"Age\", \"Employment_type\", \"Interview_dependent\", \"Education_level\", \"Schooling/training_period\", \"Marital_Status\", \"Employment_area\", \"Partnership\", \"Ethnicity\", \"Gender\", \"Gains\", \"Losses\", \"Working_time_Weekly\", \"Country\", \"Income\"]\n",
    "df.columns = columns"
   ]
  },
  {
   "cell_type": "code",
   "execution_count": 3,
   "id": "117c0ede",
   "metadata": {},
   "outputs": [],
   "source": [
    "key = df[\"Income\"].isnull()  #https://stackoverflow.com/questions/36525020/how-to-filter-na-values-and-add-it-to-a-new-dataframe\n",
    "df_25000 = df.loc[key]\n",
    "df_5000 = df.loc[~key] # not na value"
   ]
  },
  {
   "cell_type": "code",
   "execution_count": 4,
   "id": "2d51b05a",
   "metadata": {},
   "outputs": [],
   "source": [
    "df_copy_new=df.copy()"
   ]
  },
  {
   "cell_type": "markdown",
   "id": "97d3c35e",
   "metadata": {},
   "source": [
    "# Löschen unwichtiger Features/Spalten"
   ]
  },
  {
   "cell_type": "code",
   "execution_count": 5,
   "id": "f1dec4e4",
   "metadata": {},
   "outputs": [],
   "source": [
    "del df_copy_new['Country']"
   ]
  },
  {
   "cell_type": "code",
   "execution_count": 6,
   "id": "ca429e92",
   "metadata": {},
   "outputs": [],
   "source": [
    "del df_copy_new['Ethnicity']"
   ]
  },
  {
   "cell_type": "code",
   "execution_count": 7,
   "id": "fdccbe4a",
   "metadata": {},
   "outputs": [
    {
     "name": "stdout",
     "output_type": "stream",
     "text": [
      " Private             20901\n",
      " Self-emp-not-inc     2363\n",
      " Local-gov            1928\n",
      " State-gov            1189\n",
      " Self-emp-inc         1037\n",
      " Federal-gov           887\n",
      " Without-pay            13\n",
      " Never-worked            5\n",
      "Name: Employment_type, dtype: int64\n"
     ]
    }
   ],
   "source": [
    "# counting unique items\n",
    "item_counts = df_copy_new[\"Employment_type\"].value_counts()\n",
    "print(item_counts) #max value nehmen"
   ]
  },
  {
   "cell_type": "code",
   "execution_count": 8,
   "id": "816146ad",
   "metadata": {},
   "outputs": [
    {
     "name": "stdout",
     "output_type": "stream",
     "text": [
      " Prof-specialty       3802\n",
      " Craft-repair         3784\n",
      " Exec-managerial      3736\n",
      " Adm-clerical         3507\n",
      " Sales                3370\n",
      " Other-service        3044\n",
      " Machine-op-inspct    1846\n",
      " Transport-moving     1473\n",
      " Handlers-cleaners    1252\n",
      " Farming-fishing       913\n",
      " Tech-support          856\n",
      " Protective-serv       583\n",
      " Priv-house-serv       144\n",
      " Armed-Forces            8\n",
      "Name: Employment_area, dtype: int64\n"
     ]
    }
   ],
   "source": [
    "item_counts = df_copy_new[\"Employment_area\"].value_counts()\n",
    "print(item_counts) #median nehmen "
   ]
  },
  {
   "cell_type": "markdown",
   "id": "589f90e8",
   "metadata": {},
   "source": [
    "# Filling Missing Values für  Employment_type und Employment area"
   ]
  },
  {
   "cell_type": "code",
   "execution_count": 9,
   "id": "dab0d553",
   "metadata": {},
   "outputs": [
    {
     "name": "stdout",
     "output_type": "stream",
     "text": [
      "[' State-gov' ' Self-emp-not-inc' ' Private' ' Federal-gov' ' Local-gov'\n",
      " ' Self-emp-inc' ' Without-pay' ' Never-worked']\n"
     ]
    }
   ],
   "source": [
    "# replacing values https://www.geeksforgeeks.org/how-to-convert-categorical-variable-to-numeric-in-pandas/\n",
    "labels = df_copy_new[\"Employment_type\"].dropna().unique()\n",
    "print(labels)\n",
    "df_copy_new['Employment_type'].replace(labels,\n",
    "                        list(range(1,len(labels)+1)), inplace=True) # +1 damit wir letzets Element bekommen"
   ]
  },
  {
   "cell_type": "code",
   "execution_count": 10,
   "id": "fb053e2f",
   "metadata": {},
   "outputs": [],
   "source": [
    "df_copy_new[\"Employment_type\"]=df_copy_new[\"Employment_type\"].fillna(3.0)"
   ]
  },
  {
   "cell_type": "markdown",
   "id": "8cbb893b",
   "metadata": {},
   "source": [
    "# Converting numeric to object back Employment_type and FILL NA"
   ]
  },
  {
   "cell_type": "code",
   "execution_count": 11,
   "id": "c2e96b40",
   "metadata": {},
   "outputs": [],
   "source": [
    "# replacing values https://www.geeksforgeeks.org/how-to-convert-categorical-variable-to-numeric-in-pandas/\n",
    "#labels = df_copy_new[\"Employment_type\"].dropna().unique()\n",
    "#print(labels)\n",
    "df_copy_new['Employment_type'].replace(list(range(1,len(labels)+1)),labels, inplace=True) \n",
    "# +1 damit wir letzets Element bekommen"
   ]
  },
  {
   "cell_type": "code",
   "execution_count": 12,
   "id": "f8c205db",
   "metadata": {},
   "outputs": [
    {
     "name": "stdout",
     "output_type": "stream",
     "text": [
      " Private             22578\n",
      " Self-emp-not-inc     2363\n",
      " Local-gov            1928\n",
      " State-gov            1189\n",
      " Self-emp-inc         1037\n",
      " Federal-gov           887\n",
      " Without-pay            13\n",
      " Never-worked            5\n",
      "Name: Employment_type, dtype: int64\n"
     ]
    }
   ],
   "source": [
    "item_counts = df_copy_new[\"Employment_type\"].value_counts()\n",
    "print(item_counts) #max value nehmen"
   ]
  },
  {
   "cell_type": "code",
   "execution_count": 13,
   "id": "f5014658",
   "metadata": {},
   "outputs": [
    {
     "name": "stdout",
     "output_type": "stream",
     "text": [
      " Prof-specialty       3802\n",
      " Craft-repair         3784\n",
      " Exec-managerial      3736\n",
      " Adm-clerical         3507\n",
      " Sales                3370\n",
      " Other-service        3044\n",
      " Machine-op-inspct    1846\n",
      " Transport-moving     1473\n",
      " Handlers-cleaners    1252\n",
      " Farming-fishing       913\n",
      " Tech-support          856\n",
      " Protective-serv       583\n",
      " Priv-house-serv       144\n",
      " Armed-Forces            8\n",
      "Name: Employment_area, dtype: int64\n"
     ]
    }
   ],
   "source": [
    "item_counts = df_copy_new[\"Employment_area\"].value_counts()\n",
    "print(item_counts) "
   ]
  },
  {
   "cell_type": "code",
   "execution_count": 14,
   "id": "43160243",
   "metadata": {},
   "outputs": [
    {
     "name": "stdout",
     "output_type": "stream",
     "text": [
      "[' Adm-clerical' ' Exec-managerial' ' Handlers-cleaners' ' Prof-specialty'\n",
      " ' Other-service' ' Sales' ' Craft-repair' ' Transport-moving'\n",
      " ' Farming-fishing' ' Machine-op-inspct' ' Tech-support'\n",
      " ' Protective-serv' ' Armed-Forces' ' Priv-house-serv']\n"
     ]
    }
   ],
   "source": [
    "labels = df_copy_new[\"Employment_area\"].dropna().unique()\n",
    "print(labels)\n",
    "df_copy_new['Employment_area'].replace(labels,\n",
    "                        list(range(1,len(labels)+1)), inplace=True) # +1 damit wir letzets Element bekommen"
   ]
  },
  {
   "cell_type": "code",
   "execution_count": 15,
   "id": "546a004d",
   "metadata": {},
   "outputs": [],
   "source": [
    "df_copy_new[\"Employment_area\"]=df_copy_new[\"Employment_area\"].fillna(10.0)"
   ]
  },
  {
   "cell_type": "code",
   "execution_count": 16,
   "id": "a91f2926",
   "metadata": {},
   "outputs": [
    {
     "name": "stdout",
     "output_type": "stream",
     "text": [
      "4.0     3802\n",
      "7.0     3784\n",
      "2.0     3736\n",
      "10.0    3528\n",
      "1.0     3507\n",
      "6.0     3370\n",
      "5.0     3044\n",
      "8.0     1473\n",
      "3.0     1252\n",
      "9.0      913\n",
      "11.0     856\n",
      "12.0     583\n",
      "14.0     144\n",
      "13.0       8\n",
      "Name: Employment_area, dtype: int64\n"
     ]
    }
   ],
   "source": [
    "item_counts = df_copy_new[\"Employment_area\"].value_counts()\n",
    "print(item_counts) "
   ]
  },
  {
   "cell_type": "code",
   "execution_count": 17,
   "id": "de7b49b3",
   "metadata": {},
   "outputs": [
    {
     "name": "stdout",
     "output_type": "stream",
     "text": [
      "<class 'pandas.core.frame.DataFrame'>\n",
      "RangeIndex: 30000 entries, 0 to 29999\n",
      "Data columns (total 13 columns):\n",
      " #   Column                     Non-Null Count  Dtype  \n",
      "---  ------                     --------------  -----  \n",
      " 0   Age                        30000 non-null  int64  \n",
      " 1   Employment_type            30000 non-null  object \n",
      " 2   Interview_dependent        30000 non-null  int64  \n",
      " 3   Education_level            30000 non-null  object \n",
      " 4   Schooling/training_period  30000 non-null  int64  \n",
      " 5   Marital_Status             30000 non-null  object \n",
      " 6   Employment_area            30000 non-null  float64\n",
      " 7   Partnership                30000 non-null  object \n",
      " 8   Gender                     30000 non-null  object \n",
      " 9   Gains                      30000 non-null  int64  \n",
      " 10  Losses                     30000 non-null  int64  \n",
      " 11  Working_time_Weekly        30000 non-null  int64  \n",
      " 12  Income                     5000 non-null   object \n",
      "dtypes: float64(1), int64(6), object(6)\n",
      "memory usage: 3.0+ MB\n"
     ]
    }
   ],
   "source": [
    "df_copy_new.info()"
   ]
  },
  {
   "cell_type": "code",
   "execution_count": 18,
   "id": "2ca26834",
   "metadata": {},
   "outputs": [],
   "source": [
    "df_copy_new['Employment_area'].replace(list(range(1,len(labels)+1)),labels, inplace=True) \n",
    "# +1 damit wir letzets Element bekommen"
   ]
  },
  {
   "cell_type": "code",
   "execution_count": 19,
   "id": "233c721b",
   "metadata": {},
   "outputs": [
    {
     "name": "stdout",
     "output_type": "stream",
     "text": [
      " Prof-specialty       3802\n",
      " Craft-repair         3784\n",
      " Exec-managerial      3736\n",
      " Machine-op-inspct    3528\n",
      " Adm-clerical         3507\n",
      " Sales                3370\n",
      " Other-service        3044\n",
      " Transport-moving     1473\n",
      " Handlers-cleaners    1252\n",
      " Farming-fishing       913\n",
      " Tech-support          856\n",
      " Protective-serv       583\n",
      " Priv-house-serv       144\n",
      " Armed-Forces            8\n",
      "Name: Employment_area, dtype: int64\n"
     ]
    }
   ],
   "source": [
    "item_counts = df_copy_new[\"Employment_area\"].value_counts()\n",
    "print(item_counts) #max value nehmen"
   ]
  },
  {
   "cell_type": "code",
   "execution_count": 20,
   "id": "529047b2",
   "metadata": {},
   "outputs": [
    {
     "name": "stdout",
     "output_type": "stream",
     "text": [
      "<class 'pandas.core.frame.DataFrame'>\n",
      "RangeIndex: 30000 entries, 0 to 29999\n",
      "Data columns (total 13 columns):\n",
      " #   Column                     Non-Null Count  Dtype \n",
      "---  ------                     --------------  ----- \n",
      " 0   Age                        30000 non-null  int64 \n",
      " 1   Employment_type            30000 non-null  object\n",
      " 2   Interview_dependent        30000 non-null  int64 \n",
      " 3   Education_level            30000 non-null  object\n",
      " 4   Schooling/training_period  30000 non-null  int64 \n",
      " 5   Marital_Status             30000 non-null  object\n",
      " 6   Employment_area            30000 non-null  object\n",
      " 7   Partnership                30000 non-null  object\n",
      " 8   Gender                     30000 non-null  object\n",
      " 9   Gains                      30000 non-null  int64 \n",
      " 10  Losses                     30000 non-null  int64 \n",
      " 11  Working_time_Weekly        30000 non-null  int64 \n",
      " 12  Income                     5000 non-null   object\n",
      "dtypes: int64(6), object(7)\n",
      "memory usage: 3.0+ MB\n"
     ]
    }
   ],
   "source": [
    "df_copy_new.info()"
   ]
  },
  {
   "cell_type": "markdown",
   "id": "6c5747d4",
   "metadata": {},
   "source": [
    "# One hot encoding"
   ]
  },
  {
   "cell_type": "code",
   "execution_count": 21,
   "id": "c03ea730",
   "metadata": {},
   "outputs": [],
   "source": [
    "#https://stackoverflow.com/questions/58101126/using-scikit-learn-onehotencoder-with-a-pandas-dataframe\n",
    "#https://stackabuse.com/one-hot-encoding-in-python-with-pandas-and-scikit-learn/\n",
    "\n",
    "\n",
    "df_copy_new= pd.get_dummies(df_copy_new,prefix=['Employment_type'], columns = ['Employment_type'], drop_first=True)"
   ]
  },
  {
   "cell_type": "code",
   "execution_count": 22,
   "id": "eb3ba87e",
   "metadata": {},
   "outputs": [],
   "source": [
    "df_copy_new= pd.get_dummies(df_copy_new,prefix=['Education_level'], columns = ['Education_level'], drop_first=True)"
   ]
  },
  {
   "cell_type": "code",
   "execution_count": 23,
   "id": "919ffb20",
   "metadata": {},
   "outputs": [],
   "source": [
    "df_copy_new= pd.get_dummies(df_copy_new,prefix=['Marital_Status'], columns = ['Marital_Status'], drop_first=True)"
   ]
  },
  {
   "cell_type": "code",
   "execution_count": 24,
   "id": "4b20c645",
   "metadata": {},
   "outputs": [],
   "source": [
    "df_copy_new= pd.get_dummies(df_copy_new,prefix=['Employment_area'], columns = ['Employment_area'], drop_first=True)"
   ]
  },
  {
   "cell_type": "code",
   "execution_count": 25,
   "id": "b1ad7357",
   "metadata": {},
   "outputs": [],
   "source": [
    "df_copy_new= pd.get_dummies(df_copy_new,prefix=['Partnership'], columns = ['Partnership'], drop_first=True)"
   ]
  },
  {
   "cell_type": "code",
   "execution_count": 26,
   "id": "6b663eea",
   "metadata": {},
   "outputs": [],
   "source": [
    "df_copy_new= pd.get_dummies(df_copy_new,prefix=['Gender'], columns = ['Gender'], drop_first=True)"
   ]
  },
  {
   "cell_type": "markdown",
   "id": "1aebef8c",
   "metadata": {},
   "source": [
    "Alle Kategorischen werte wurden durch one hot encoding verändert"
   ]
  },
  {
   "cell_type": "markdown",
   "id": "d6827ced",
   "metadata": {},
   "source": [
    "# Remove Duplicates"
   ]
  },
  {
   "cell_type": "code",
   "execution_count": 27,
   "id": "e86ca0cf",
   "metadata": {},
   "outputs": [],
   "source": [
    "df_copy_new= df_copy_new.drop_duplicates(keep='first')"
   ]
  },
  {
   "cell_type": "markdown",
   "id": "c970590e",
   "metadata": {},
   "source": [
    "# Splitting data and label"
   ]
  },
  {
   "cell_type": "code",
   "execution_count": 28,
   "id": "a0eb0611",
   "metadata": {},
   "outputs": [],
   "source": [
    "key = df_copy_new[\"Income\"].isnull()  #https://stackoverflow.com/questions/36525020/how-to-filter-na-values-and-add-it-to-a-new-dataframe\n",
    "df_25000 = df_copy_new.loc[key]\n",
    "df_5000 = df_copy_new.loc[~key] # not na value"
   ]
  },
  {
   "cell_type": "markdown",
   "id": "045d849f",
   "metadata": {},
   "source": [
    "# Converting Income into Numeric"
   ]
  },
  {
   "cell_type": "code",
   "execution_count": 29,
   "id": "3109f493",
   "metadata": {},
   "outputs": [
    {
     "name": "stdout",
     "output_type": "stream",
     "text": [
      "[' <=50K' ' >50K']\n"
     ]
    },
    {
     "name": "stderr",
     "output_type": "stream",
     "text": [
      "/Users/anthonyfernando/opt/anaconda3/lib/python3.9/site-packages/pandas/core/generic.py:6619: SettingWithCopyWarning: \n",
      "A value is trying to be set on a copy of a slice from a DataFrame\n",
      "\n",
      "See the caveats in the documentation: https://pandas.pydata.org/pandas-docs/stable/user_guide/indexing.html#returning-a-view-versus-a-copy\n",
      "  return self._update_inplace(result)\n"
     ]
    }
   ],
   "source": [
    "labels = df_5000[\"Income\"].dropna().unique()\n",
    "print(labels)\n",
    "df_5000['Income'].replace(labels,\n",
    "                        list(range(0,len(labels))), inplace=True) # range(0) damit wir label 0 -1 haben"
   ]
  },
  {
   "cell_type": "markdown",
   "id": "5a32b550",
   "metadata": {},
   "source": [
    "# Feature Selection ( nehmen alle Features)"
   ]
  },
  {
   "cell_type": "code",
   "execution_count": 30,
   "id": "08bf26d2",
   "metadata": {},
   "outputs": [],
   "source": [
    "label = df_5000['Income']\n",
    "df_x = df_5000.drop(columns=['Income'])"
   ]
  },
  {
   "cell_type": "code",
   "execution_count": 31,
   "id": "72e0ab65",
   "metadata": {},
   "outputs": [],
   "source": [
    "label=label.astype(bool) "
   ]
  },
  {
   "cell_type": "code",
   "execution_count": 32,
   "id": "38391781",
   "metadata": {},
   "outputs": [],
   "source": [
    "import seaborn as sns\n",
    "from sklearn.ensemble import RandomForestClassifier\n",
    "from sklearn.ensemble import RandomForestRegressor\n",
    "from sklearn import metrics\n",
    "from sklearn.model_selection import train_test_split\n",
    "\n",
    "\n",
    "%matplotlib inline\n",
    "%load_ext autoreload\n",
    "%autoreload 2"
   ]
  },
  {
   "cell_type": "code",
   "execution_count": 33,
   "id": "b6b9bf52",
   "metadata": {},
   "outputs": [],
   "source": [
    "\n",
    "X_train, X_test, y_train, y_test = train_test_split(df_x , label, test_size=.33, random_state=42)\n",
    "\n",
    "tree = RandomForestClassifier()\n",
    "tree.fit(X_train, y_train)\n",
    "\n",
    "importances = tree.feature_importances_"
   ]
  },
  {
   "cell_type": "code",
   "execution_count": 34,
   "id": "97865b8f",
   "metadata": {},
   "outputs": [
    {
     "name": "stdout",
     "output_type": "stream",
     "text": [
      "Feature: 0, Score: 0.14079\n",
      "Feature: 1, Score: 0.14254\n",
      "Feature: 2, Score: 0.07420\n",
      "Feature: 3, Score: 0.09813\n",
      "Feature: 4, Score: 0.03101\n",
      "Feature: 5, Score: 0.08863\n",
      "Feature: 6, Score: 0.00680\n",
      "Feature: 7, Score: 0.00000\n",
      "Feature: 8, Score: 0.01594\n",
      "Feature: 9, Score: 0.00995\n",
      "Feature: 10, Score: 0.01009\n",
      "Feature: 11, Score: 0.00636\n",
      "Feature: 12, Score: 0.00002\n",
      "Feature: 13, Score: 0.00239\n",
      "Feature: 14, Score: 0.00060\n",
      "Feature: 15, Score: 0.00042\n",
      "Feature: 16, Score: 0.00074\n",
      "Feature: 17, Score: 0.00298\n",
      "Feature: 18, Score: 0.00154\n",
      "Feature: 19, Score: 0.00350\n",
      "Feature: 20, Score: 0.00430\n",
      "Feature: 21, Score: 0.01165\n",
      "Feature: 22, Score: 0.00341\n",
      "Feature: 23, Score: 0.00872\n",
      "Feature: 24, Score: 0.00685\n",
      "Feature: 25, Score: 0.00005\n",
      "Feature: 26, Score: 0.00649\n",
      "Feature: 27, Score: 0.00809\n",
      "Feature: 28, Score: 0.00009\n",
      "Feature: 29, Score: 0.10086\n",
      "Feature: 30, Score: 0.00161\n",
      "Feature: 31, Score: 0.03103\n",
      "Feature: 32, Score: 0.00224\n",
      "Feature: 33, Score: 0.00170\n",
      "Feature: 34, Score: 0.00000\n",
      "Feature: 35, Score: 0.00996\n",
      "Feature: 36, Score: 0.02621\n",
      "Feature: 37, Score: 0.00555\n",
      "Feature: 38, Score: 0.00303\n",
      "Feature: 39, Score: 0.00728\n",
      "Feature: 40, Score: 0.00675\n",
      "Feature: 41, Score: 0.00001\n",
      "Feature: 42, Score: 0.01651\n",
      "Feature: 43, Score: 0.00373\n",
      "Feature: 44, Score: 0.01197\n",
      "Feature: 45, Score: 0.00622\n",
      "Feature: 46, Score: 0.00684\n",
      "Feature: 47, Score: 0.01980\n",
      "Feature: 48, Score: 0.00217\n",
      "Feature: 49, Score: 0.01137\n",
      "Feature: 50, Score: 0.01066\n",
      "Feature: 51, Score: 0.01099\n",
      "Feature: 52, Score: 0.01721\n"
     ]
    },
    {
     "data": {
      "text/plain": [
       "([0,\n",
       "  1,\n",
       "  2,\n",
       "  3,\n",
       "  4,\n",
       "  5,\n",
       "  6,\n",
       "  7,\n",
       "  8,\n",
       "  9,\n",
       "  10,\n",
       "  11,\n",
       "  12,\n",
       "  13,\n",
       "  14,\n",
       "  15,\n",
       "  16,\n",
       "  17,\n",
       "  18,\n",
       "  19,\n",
       "  20,\n",
       "  21,\n",
       "  22,\n",
       "  23,\n",
       "  24,\n",
       "  25,\n",
       "  26,\n",
       "  27,\n",
       "  28,\n",
       "  29,\n",
       "  30,\n",
       "  31,\n",
       "  32,\n",
       "  33,\n",
       "  34,\n",
       "  35,\n",
       "  36,\n",
       "  37,\n",
       "  38,\n",
       "  39,\n",
       "  40,\n",
       "  41,\n",
       "  42,\n",
       "  43,\n",
       "  44,\n",
       "  45,\n",
       "  46,\n",
       "  47,\n",
       "  48,\n",
       "  49,\n",
       "  50,\n",
       "  51,\n",
       "  52],\n",
       " [Text(0, 0, ''),\n",
       "  Text(0, 0, ''),\n",
       "  Text(0, 0, ''),\n",
       "  Text(0, 0, ''),\n",
       "  Text(0, 0, ''),\n",
       "  Text(0, 0, ''),\n",
       "  Text(0, 0, ''),\n",
       "  Text(0, 0, ''),\n",
       "  Text(0, 0, ''),\n",
       "  Text(0, 0, ''),\n",
       "  Text(0, 0, ''),\n",
       "  Text(0, 0, ''),\n",
       "  Text(0, 0, ''),\n",
       "  Text(0, 0, ''),\n",
       "  Text(0, 0, ''),\n",
       "  Text(0, 0, ''),\n",
       "  Text(0, 0, ''),\n",
       "  Text(0, 0, ''),\n",
       "  Text(0, 0, ''),\n",
       "  Text(0, 0, ''),\n",
       "  Text(0, 0, ''),\n",
       "  Text(0, 0, ''),\n",
       "  Text(0, 0, ''),\n",
       "  Text(0, 0, ''),\n",
       "  Text(0, 0, ''),\n",
       "  Text(0, 0, ''),\n",
       "  Text(0, 0, ''),\n",
       "  Text(0, 0, ''),\n",
       "  Text(0, 0, ''),\n",
       "  Text(0, 0, ''),\n",
       "  Text(0, 0, ''),\n",
       "  Text(0, 0, ''),\n",
       "  Text(0, 0, ''),\n",
       "  Text(0, 0, ''),\n",
       "  Text(0, 0, ''),\n",
       "  Text(0, 0, ''),\n",
       "  Text(0, 0, ''),\n",
       "  Text(0, 0, ''),\n",
       "  Text(0, 0, ''),\n",
       "  Text(0, 0, ''),\n",
       "  Text(0, 0, ''),\n",
       "  Text(0, 0, ''),\n",
       "  Text(0, 0, ''),\n",
       "  Text(0, 0, ''),\n",
       "  Text(0, 0, ''),\n",
       "  Text(0, 0, ''),\n",
       "  Text(0, 0, ''),\n",
       "  Text(0, 0, ''),\n",
       "  Text(0, 0, ''),\n",
       "  Text(0, 0, ''),\n",
       "  Text(0, 0, ''),\n",
       "  Text(0, 0, ''),\n",
       "  Text(0, 0, '')])"
      ]
     },
     "execution_count": 34,
     "metadata": {},
     "output_type": "execute_result"
    },
    {
     "data": {
      "image/png": "[encoded data removed]",
      "text/plain": [
       "<Figure size 432x288 with 1 Axes>"
      ]
     },
     "metadata": {
      "needs_background": "light"
     },
     "output_type": "display_data"
    }
   ],
   "source": [
    "# summarize feature importance\n",
    "for i,v in enumerate(importances):\n",
    "    print('Feature: %0d, Score: %.5f' % (i,v))\n",
    "#plot feature importance\n",
    "#plt.bar([x for x in range(len(importances))], importances)\n",
    "plt.bar(df_x.columns,importances)\n",
    "plt.xticks(rotation=90)"
   ]
  },
  {
   "cell_type": "code",
   "execution_count": 35,
   "id": "f116cbc7",
   "metadata": {},
   "outputs": [],
   "source": [
    "features_value, features_name = zip(*sorted(zip(importances, df_x.columns),reverse=True))"
   ]
  },
  {
   "cell_type": "code",
   "execution_count": 36,
   "id": "eb43d7c4",
   "metadata": {},
   "outputs": [
    {
     "data": {
      "text/plain": [
       "([0,\n",
       "  1,\n",
       "  2,\n",
       "  3,\n",
       "  4,\n",
       "  5,\n",
       "  6,\n",
       "  7,\n",
       "  8,\n",
       "  9,\n",
       "  10,\n",
       "  11,\n",
       "  12,\n",
       "  13,\n",
       "  14,\n",
       "  15,\n",
       "  16,\n",
       "  17,\n",
       "  18,\n",
       "  19,\n",
       "  20,\n",
       "  21,\n",
       "  22,\n",
       "  23,\n",
       "  24,\n",
       "  25,\n",
       "  26,\n",
       "  27,\n",
       "  28,\n",
       "  29,\n",
       "  30,\n",
       "  31,\n",
       "  32,\n",
       "  33,\n",
       "  34,\n",
       "  35,\n",
       "  36,\n",
       "  37,\n",
       "  38,\n",
       "  39,\n",
       "  40,\n",
       "  41,\n",
       "  42,\n",
       "  43,\n",
       "  44,\n",
       "  45,\n",
       "  46,\n",
       "  47,\n",
       "  48,\n",
       "  49,\n",
       "  50,\n",
       "  51,\n",
       "  52],\n",
       " [Text(0, 0, ''),\n",
       "  Text(0, 0, ''),\n",
       "  Text(0, 0, ''),\n",
       "  Text(0, 0, ''),\n",
       "  Text(0, 0, ''),\n",
       "  Text(0, 0, ''),\n",
       "  Text(0, 0, ''),\n",
       "  Text(0, 0, ''),\n",
       "  Text(0, 0, ''),\n",
       "  Text(0, 0, ''),\n",
       "  Text(0, 0, ''),\n",
       "  Text(0, 0, ''),\n",
       "  Text(0, 0, ''),\n",
       "  Text(0, 0, ''),\n",
       "  Text(0, 0, ''),\n",
       "  Text(0, 0, ''),\n",
       "  Text(0, 0, ''),\n",
       "  Text(0, 0, ''),\n",
       "  Text(0, 0, ''),\n",
       "  Text(0, 0, ''),\n",
       "  Text(0, 0, ''),\n",
       "  Text(0, 0, ''),\n",
       "  Text(0, 0, ''),\n",
       "  Text(0, 0, ''),\n",
       "  Text(0, 0, ''),\n",
       "  Text(0, 0, ''),\n",
       "  Text(0, 0, ''),\n",
       "  Text(0, 0, ''),\n",
       "  Text(0, 0, ''),\n",
       "  Text(0, 0, ''),\n",
       "  Text(0, 0, ''),\n",
       "  Text(0, 0, ''),\n",
       "  Text(0, 0, ''),\n",
       "  Text(0, 0, ''),\n",
       "  Text(0, 0, ''),\n",
       "  Text(0, 0, ''),\n",
       "  Text(0, 0, ''),\n",
       "  Text(0, 0, ''),\n",
       "  Text(0, 0, ''),\n",
       "  Text(0, 0, ''),\n",
       "  Text(0, 0, ''),\n",
       "  Text(0, 0, ''),\n",
       "  Text(0, 0, ''),\n",
       "  Text(0, 0, ''),\n",
       "  Text(0, 0, ''),\n",
       "  Text(0, 0, ''),\n",
       "  Text(0, 0, ''),\n",
       "  Text(0, 0, ''),\n",
       "  Text(0, 0, ''),\n",
       "  Text(0, 0, ''),\n",
       "  Text(0, 0, ''),\n",
       "  Text(0, 0, ''),\n",
       "  Text(0, 0, '')])"
      ]
     },
     "execution_count": 36,
     "metadata": {},
     "output_type": "execute_result"
    },
    {
     "data": {
      "image/png": "[encoded data removed]",
      "text/plain": [
       "<Figure size 1152x720 with 1 Axes>"
      ]
     },
     "metadata": {
      "needs_background": "light"
     },
     "output_type": "display_data"
    }
   ],
   "source": [
    "fig = plt.figure(figsize=(16,10))\n",
    "plt.bar(features_name,features_value)\n",
    "plt.xticks(rotation=90)"
   ]
  },
  {
   "cell_type": "code",
   "execution_count": 37,
   "id": "41eda6fe",
   "metadata": {},
   "outputs": [],
   "source": [
    "important_features= features_name[:]"
   ]
  },
  {
   "cell_type": "code",
   "execution_count": 38,
   "id": "e89cc2ed",
   "metadata": {},
   "outputs": [
    {
     "data": {
      "text/plain": [
       "('Interview_dependent',\n",
       " 'Age',\n",
       " 'Marital_Status_ Married-civ-spouse',\n",
       " 'Gains',\n",
       " 'Working_time_Weekly',\n",
       " 'Schooling/training_period',\n",
       " 'Marital_Status_ Never-married',\n",
       " 'Losses',\n",
       " 'Employment_area_ Exec-managerial',\n",
       " 'Partnership_ Not-in-family',\n",
       " 'Gender_ Male',\n",
       " 'Employment_area_ Prof-specialty',\n",
       " 'Employment_type_ Private',\n",
       " 'Employment_area_ Sales',\n",
       " 'Education_level_ Bachelors',\n",
       " 'Partnership_ Own-child',\n",
       " 'Partnership_ Wife',\n",
       " 'Partnership_ Unmarried',\n",
       " 'Employment_type_ Self-emp-not-inc',\n",
       " 'Employment_area_ Craft-repair',\n",
       " 'Employment_type_ Self-emp-inc',\n",
       " 'Education_level_ HS-grad',\n",
       " 'Education_level_ Some-college',\n",
       " 'Employment_area_ Machine-op-inspct',\n",
       " 'Education_level_ Masters',\n",
       " 'Employment_area_ Transport-moving',\n",
       " 'Employment_type_ Local-gov',\n",
       " 'Employment_area_ Other-service',\n",
       " 'Education_level_ Prof-school',\n",
       " 'Employment_type_ State-gov',\n",
       " 'Employment_area_ Tech-support',\n",
       " 'Employment_area_ Farming-fishing',\n",
       " 'Education_level_ Assoc-voc',\n",
       " 'Employment_area_ Protective-serv',\n",
       " 'Education_level_ Assoc-acdm',\n",
       " 'Education_level_ Doctorate',\n",
       " 'Employment_area_ Handlers-cleaners',\n",
       " 'Education_level_ 7th-8th',\n",
       " 'Education_level_ 11th',\n",
       " 'Marital_Status_ Separated',\n",
       " 'Partnership_ Other-relative',\n",
       " 'Marital_Status_ Widowed',\n",
       " 'Marital_Status_ Married-spouse-absent',\n",
       " 'Education_level_ 9th',\n",
       " 'Education_level_ 5th-6th',\n",
       " 'Education_level_ 12th',\n",
       " 'Education_level_ 1st-4th',\n",
       " 'Marital_Status_ Married-AF-spouse',\n",
       " 'Education_level_ Preschool',\n",
       " 'Employment_type_ Without-pay',\n",
       " 'Employment_area_ Priv-house-serv',\n",
       " 'Employment_area_ Armed-Forces',\n",
       " 'Employment_type_ Never-worked')"
      ]
     },
     "execution_count": 38,
     "metadata": {},
     "output_type": "execute_result"
    }
   ],
   "source": [
    "important_features"
   ]
  },
  {
   "cell_type": "markdown",
   "id": "9f9ef4e5",
   "metadata": {},
   "source": [
    "# Splitting Data and inport important features"
   ]
  },
  {
   "cell_type": "code",
   "execution_count": 39,
   "id": "2ac3695e",
   "metadata": {},
   "outputs": [
    {
     "data": {
      "text/html": [
       "<div>\n",
       "<style scoped>\n",
       "    .dataframe tbody tr th:only-of-type {\n",
       "        vertical-align: middle;\n",
       "    }\n",
       "\n",
       "    .dataframe tbody tr th {\n",
       "        vertical-align: top;\n",
       "    }\n",
       "\n",
       "    .dataframe thead th {\n",
       "        text-align: right;\n",
       "    }\n",
       "</style>\n",
       "<table border=\"1\" class=\"dataframe\">\n",
       "  <thead>\n",
       "    <tr style=\"text-align: right;\">\n",
       "      <th></th>\n",
       "      <th>Income</th>\n",
       "    </tr>\n",
       "  </thead>\n",
       "  <tbody>\n",
       "    <tr>\n",
       "      <th>0</th>\n",
       "      <td>0</td>\n",
       "    </tr>\n",
       "    <tr>\n",
       "      <th>1</th>\n",
       "      <td>0</td>\n",
       "    </tr>\n",
       "    <tr>\n",
       "      <th>2</th>\n",
       "      <td>0</td>\n",
       "    </tr>\n",
       "    <tr>\n",
       "      <th>3</th>\n",
       "      <td>0</td>\n",
       "    </tr>\n",
       "    <tr>\n",
       "      <th>4</th>\n",
       "      <td>0</td>\n",
       "    </tr>\n",
       "    <tr>\n",
       "      <th>...</th>\n",
       "      <td>...</td>\n",
       "    </tr>\n",
       "    <tr>\n",
       "      <th>4995</th>\n",
       "      <td>0</td>\n",
       "    </tr>\n",
       "    <tr>\n",
       "      <th>4996</th>\n",
       "      <td>1</td>\n",
       "    </tr>\n",
       "    <tr>\n",
       "      <th>4997</th>\n",
       "      <td>1</td>\n",
       "    </tr>\n",
       "    <tr>\n",
       "      <th>4998</th>\n",
       "      <td>0</td>\n",
       "    </tr>\n",
       "    <tr>\n",
       "      <th>4999</th>\n",
       "      <td>0</td>\n",
       "    </tr>\n",
       "  </tbody>\n",
       "</table>\n",
       "<p>4999 rows × 1 columns</p>\n",
       "</div>"
      ],
      "text/plain": [
       "      Income\n",
       "0          0\n",
       "1          0\n",
       "2          0\n",
       "3          0\n",
       "4          0\n",
       "...      ...\n",
       "4995       0\n",
       "4996       1\n",
       "4997       1\n",
       "4998       0\n",
       "4999       0\n",
       "\n",
       "[4999 rows x 1 columns]"
      ]
     },
     "execution_count": 39,
     "metadata": {},
     "output_type": "execute_result"
    }
   ],
   "source": [
    "df_y=label.astype(int) \n",
    "df_y= pd.Series(df_y,name=\"Income\")\n",
    "\n",
    "df_y.to_frame()"
   ]
  },
  {
   "cell_type": "code",
   "execution_count": 40,
   "id": "59072ddb",
   "metadata": {},
   "outputs": [],
   "source": [
    "X_train, X_test, y_train, y_test = train_test_split(df_x, df_y, test_size=.20, random_state=42)\n",
    "X_train, X_valid, y_train, y_valid = train_test_split(X_train, y_train, test_size=.30, random_state=42)"
   ]
  },
  {
   "cell_type": "code",
   "execution_count": 41,
   "id": "ae65ad43",
   "metadata": {},
   "outputs": [
    {
     "name": "stdout",
     "output_type": "stream",
     "text": [
      "['Interview_dependent', 'Age', 'Marital_Status_ Married-civ-spouse', 'Gains', 'Working_time_Weekly', 'Schooling/training_period', 'Marital_Status_ Never-married', 'Losses', 'Employment_area_ Exec-managerial', 'Partnership_ Not-in-family', 'Gender_ Male', 'Employment_area_ Prof-specialty', 'Employment_type_ Private', 'Employment_area_ Sales', 'Education_level_ Bachelors', 'Partnership_ Own-child', 'Partnership_ Wife', 'Partnership_ Unmarried', 'Employment_type_ Self-emp-not-inc', 'Employment_area_ Craft-repair', 'Employment_type_ Self-emp-inc', 'Education_level_ HS-grad', 'Education_level_ Some-college', 'Employment_area_ Machine-op-inspct', 'Education_level_ Masters', 'Employment_area_ Transport-moving', 'Employment_type_ Local-gov', 'Employment_area_ Other-service', 'Education_level_ Prof-school', 'Employment_type_ State-gov', 'Employment_area_ Tech-support', 'Employment_area_ Farming-fishing', 'Education_level_ Assoc-voc', 'Employment_area_ Protective-serv', 'Education_level_ Assoc-acdm', 'Education_level_ Doctorate', 'Employment_area_ Handlers-cleaners', 'Education_level_ 7th-8th', 'Education_level_ 11th', 'Marital_Status_ Separated', 'Partnership_ Other-relative', 'Marital_Status_ Widowed', 'Marital_Status_ Married-spouse-absent', 'Education_level_ 9th', 'Education_level_ 5th-6th', 'Education_level_ 12th', 'Education_level_ 1st-4th', 'Marital_Status_ Married-AF-spouse', 'Education_level_ Preschool', 'Employment_type_ Without-pay', 'Employment_area_ Priv-house-serv', 'Employment_area_ Armed-Forces', 'Employment_type_ Never-worked']\n",
      "<class 'list'>\n"
     ]
    }
   ],
   "source": [
    "important_features=list(important_features)\n",
    "print(important_features)\n",
    "print(type(important_features))"
   ]
  },
  {
   "cell_type": "code",
   "execution_count": 42,
   "id": "e41f57b1",
   "metadata": {},
   "outputs": [],
   "source": [
    "X_train_features = X_train[important_features]\n",
    "\n",
    "X_valid_features = X_valid[important_features]\n",
    "X_test_features = X_test[important_features]"
   ]
  },
  {
   "cell_type": "markdown",
   "id": "95411390",
   "metadata": {},
   "source": [
    "# Model Selection ( Training, Tuning Hyperparameter and Validate)"
   ]
  },
  {
   "cell_type": "code",
   "execution_count": 43,
   "id": "6be61e60",
   "metadata": {},
   "outputs": [],
   "source": [
    "from sklearn.ensemble import RandomForestClassifier\n",
    "from sklearn.model_selection import KFold\n",
    "from sklearn.model_selection import cross_val_score\n",
    "from numpy import mean\n",
    "from numpy import std\n",
    "from sklearn.metrics import accuracy_score\n",
    "from sklearn.metrics import confusion_matrix\n",
    "from sklearn.metrics import f1_score"
   ]
  },
  {
   "cell_type": "markdown",
   "id": "9892a0ed",
   "metadata": {},
   "source": [
    "# Random Forest"
   ]
  },
  {
   "cell_type": "code",
   "execution_count": 44,
   "id": "05123f02",
   "metadata": {},
   "outputs": [
    {
     "name": "stdout",
     "output_type": "stream",
     "text": [
      "Train Accuracy:1 0.794 (0.016)\n",
      "Train Accuracy:2 0.804 (0.008)\n",
      "Train Accuracy:3 0.810 (0.007)\n",
      "Train Accuracy:4 0.809 (0.007)\n",
      "Train Accuracy:5 0.812 (0.007)\n",
      "Train Accuracy:6 0.815 (0.008)\n",
      "Train Accuracy:7 0.811 (0.012)\n",
      "Train Accuracy:8 0.809 (0.013)\n",
      "Train Accuracy:9 0.812 (0.010)\n",
      "Train Accuracy:10 0.812 (0.010)\n",
      "Train Accuracy:11 0.812 (0.010)\n",
      "Train Accuracy:12 0.814 (0.010)\n",
      "Train Accuracy:13 0.816 (0.010)\n",
      "Train Accuracy:14 0.816 (0.010)\n",
      "Train Accuracy:15 0.818 (0.010)\n",
      "Train Accuracy:16 0.817 (0.010)\n",
      "Train Accuracy:17 0.816 (0.011)\n",
      "Train Accuracy:18 0.817 (0.010)\n",
      "Train Accuracy:19 0.818 (0.011)\n",
      "Train Accuracy:20 0.818 (0.011)\n",
      "Train Accuracy:21 0.818 (0.012)\n",
      "Train Accuracy:22 0.819 (0.010)\n",
      "Train Accuracy:23 0.822 (0.011)\n",
      "Train Accuracy:24 0.822 (0.012)\n",
      "Train Accuracy:25 0.819 (0.014)\n",
      "Train Accuracy:26 0.821 (0.013)\n",
      "Train Accuracy:27 0.821 (0.013)\n",
      "Train Accuracy:28 0.820 (0.015)\n",
      "Train Accuracy:29 0.820 (0.015)\n",
      "Train Accuracy:30 0.819 (0.015)\n",
      "Train Accuracy:31 0.818 (0.016)\n",
      "Train Accuracy:32 0.818 (0.017)\n",
      "Train Accuracy:33 0.817 (0.016)\n",
      "Train Accuracy:34 0.817 (0.016)\n",
      "Train Accuracy:35 0.819 (0.016)\n",
      "Train Accuracy:36 0.819 (0.017)\n",
      "Train Accuracy:37 0.818 (0.015)\n",
      "Train Accuracy:38 0.819 (0.016)\n",
      "Train Accuracy:39 0.820 (0.012)\n",
      "Train Accuracy:40 0.820 (0.011)\n",
      "Train Accuracy:41 0.820 (0.010)\n",
      "Train Accuracy:42 0.820 (0.010)\n",
      "Train Accuracy:43 0.819 (0.013)\n",
      "Train Accuracy:44 0.818 (0.012)\n",
      "Train Accuracy:45 0.820 (0.011)\n",
      "Train Accuracy:46 0.819 (0.012)\n",
      "Train Accuracy:47 0.820 (0.010)\n",
      "Train Accuracy:48 0.819 (0.011)\n",
      "Train Accuracy:49 0.818 (0.011)\n",
      "Train Accuracy:50 0.819 (0.011)\n",
      "Train Accuracy:51 0.817 (0.013)\n",
      "Train Accuracy:52 0.816 (0.013)\n",
      "Train Accuracy:53 0.818 (0.013)\n",
      "Train Accuracy:54 0.819 (0.011)\n",
      "Train Accuracy:55 0.817 (0.013)\n",
      "Train Accuracy:56 0.816 (0.014)\n",
      "Train Accuracy:57 0.814 (0.012)\n",
      "Train Accuracy:58 0.816 (0.012)\n",
      "Train Accuracy:59 0.817 (0.013)\n",
      "Train Accuracy:60 0.817 (0.012)\n",
      "Train Accuracy:61 0.817 (0.010)\n",
      "Train Accuracy:62 0.817 (0.012)\n",
      "Train Accuracy:63 0.816 (0.013)\n",
      "Train Accuracy:64 0.817 (0.011)\n",
      "Train Accuracy:65 0.818 (0.012)\n",
      "Train Accuracy:66 0.817 (0.010)\n",
      "Train Accuracy:67 0.817 (0.011)\n",
      "Train Accuracy:68 0.818 (0.010)\n",
      "Train Accuracy:69 0.818 (0.010)\n",
      "Train Accuracy:70 0.818 (0.010)\n",
      "Train Accuracy:71 0.817 (0.010)\n",
      "Train Accuracy:72 0.817 (0.010)\n",
      "Train Accuracy:73 0.818 (0.010)\n",
      "Train Accuracy:74 0.818 (0.011)\n",
      "Train Accuracy:75 0.820 (0.009)\n",
      "Train Accuracy:76 0.819 (0.009)\n",
      "Train Accuracy:77 0.819 (0.010)\n",
      "Train Accuracy:78 0.819 (0.009)\n",
      "Train Accuracy:79 0.819 (0.009)\n",
      "Train Accuracy:80 0.819 (0.009)\n",
      "Train Accuracy:81 0.820 (0.008)\n",
      "Train Accuracy:82 0.819 (0.009)\n",
      "Train Accuracy:83 0.820 (0.009)\n",
      "Train Accuracy:84 0.818 (0.011)\n",
      "Train Accuracy:85 0.819 (0.009)\n",
      "Train Accuracy:86 0.820 (0.010)\n",
      "Train Accuracy:87 0.820 (0.010)\n",
      "Train Accuracy:88 0.820 (0.010)\n",
      "Train Accuracy:89 0.819 (0.009)\n",
      "Train Accuracy:90 0.820 (0.010)\n",
      "Train Accuracy:91 0.821 (0.011)\n",
      "Train Accuracy:92 0.820 (0.010)\n",
      "Train Accuracy:93 0.820 (0.008)\n",
      "Train Accuracy:94 0.820 (0.010)\n",
      "Train Accuracy:95 0.820 (0.010)\n",
      "Train Accuracy:96 0.821 (0.009)\n",
      "Train Accuracy:97 0.820 (0.010)\n",
      "Train Accuracy:98 0.820 (0.009)\n",
      "Train Accuracy:99 0.821 (0.009)\n",
      "Train Accuracy:100 0.822 (0.009)\n",
      "23\n"
     ]
    }
   ],
   "source": [
    "from sklearn import metrics\n",
    "cv = KFold(n_splits=5,)\n",
    "n_estimators_range= list(range(1, 101)) #107\n",
    "#max_depth_range=list(range(1,6)) # weniger tiefe weil wie viele Bäume haben  \n",
    "list_scores = []\n",
    "list_stds= []\n",
    "for n in n_estimators_range:\n",
    "    RFC = RandomForestClassifier(n_estimators=n,max_depth=4, random_state=0)\n",
    "    scores = cross_val_score(RFC ,X_train_features, y_train, scoring='accuracy', cv=cv)\n",
    "    print('Train Accuracy:%d %.3f (%.3f)' % (n,mean(scores), std(scores)))\n",
    "    list_scores.append(mean(scores))\n",
    "    list_stds.append(std(scores))\n",
    "        \n",
    "\n",
    "#print(list_scores)\n",
    "max_value = max(list_scores) #Return the max value of the list.\n",
    "max_index = list_scores.index(max_value) #Find the index of the max value.\n",
    "print(max_index)"
   ]
  },
  {
   "cell_type": "code",
   "execution_count": 45,
   "id": "7c58c816",
   "metadata": {},
   "outputs": [
    {
     "data": {
      "text/plain": [
       "Text(0, 0.5, 'Cross-Validated Accuracy')"
      ]
     },
     "execution_count": 45,
     "metadata": {},
     "output_type": "execute_result"
    },
    {
     "data": {
      "image/png": "[encoded data removed]",
      "text/plain": [
       "<Figure size 432x288 with 1 Axes>"
      ]
     },
     "metadata": {
      "needs_background": "light"
     },
     "output_type": "display_data"
    }
   ],
   "source": [
    "import matplotlib.pyplot as plt\n",
    "%matplotlib inline\n",
    "\n",
    "\n",
    "plt.plot(list(range(100)),list_scores)\n",
    "plt.xlabel('Value of n_estimator for Randomforest')\n",
    "plt.ylabel('Cross-Validated Accuracy')"
   ]
  },
  {
   "cell_type": "markdown",
   "id": "0478d035",
   "metadata": {},
   "source": [
    "Bester Paramter ist 35  n_estimator"
   ]
  },
  {
   "cell_type": "code",
   "execution_count": 46,
   "id": "13da9d66",
   "metadata": {},
   "outputs": [
    {
     "name": "stdout",
     "output_type": "stream",
     "text": [
      "Validation Accuracy: 0.849\n"
     ]
    }
   ],
   "source": [
    "RFC = RandomForestClassifier(n_estimators=35,max_depth=4, random_state=0)\n",
    "RFC.fit(X_train_features, y_train)\n",
    "y_pred = RFC.predict(X_valid_features)\n",
    "acc_score = accuracy_score(y_valid,y_pred)  \n",
    "print (\"Validation Accuracy: %.3f\" % (acc_score))"
   ]
  },
  {
   "cell_type": "code",
   "execution_count": 47,
   "id": "7b464104",
   "metadata": {},
   "outputs": [
    {
     "name": "stdout",
     "output_type": "stream",
     "text": [
      "Confusion Matrix: \n",
      "  [[911  18]\n",
      " [163 108]]\n",
      "\n",
      "Precision: 0.857\n",
      "Recall: 0.399\n",
      "F-1-Score: 0.544\n"
     ]
    }
   ],
   "source": [
    "from sklearn import metrics\n",
    "print (\"Confusion Matrix: \\n \" , confusion_matrix(y_valid,y_pred))\n",
    "print()\n",
    "print(\"Precision: %.3f\" % (metrics.precision_score(y_valid, y_pred)))\n",
    "print(\"Recall: %.3f\" % (metrics.recall_score(y_valid, y_pred)))\n",
    "print(\"F-1-Score: %.3f\" % ( metrics.f1_score(y_valid, y_pred)))"
   ]
  },
  {
   "cell_type": "markdown",
   "id": "f6c404ae",
   "metadata": {},
   "source": [
    "# Decision Tree"
   ]
  },
  {
   "cell_type": "code",
   "execution_count": 48,
   "id": "cc521b66",
   "metadata": {},
   "outputs": [
    {
     "name": "stdout",
     "output_type": "stream",
     "text": [
      "Train Accuracy:1 0.748 (0.015)\n",
      "Train Accuracy:2 0.796 (0.009)\n",
      "Train Accuracy:3 0.832 (0.009)\n",
      "Train Accuracy:4 0.831 (0.010)\n",
      "Train Accuracy:5 0.826 (0.005)\n",
      "Train Accuracy:6 0.825 (0.015)\n",
      "Train Accuracy:7 0.825 (0.013)\n",
      "Train Accuracy:8 0.815 (0.014)\n",
      "Train Accuracy:9 0.813 (0.013)\n",
      "Train Accuracy:10 0.806 (0.009)\n",
      "Train Accuracy:11 0.807 (0.011)\n",
      "Train Accuracy:12 0.797 (0.012)\n",
      "Train Accuracy:13 0.798 (0.011)\n",
      "Train Accuracy:14 0.795 (0.009)\n",
      "Train Accuracy:15 0.797 (0.007)\n",
      "Train Accuracy:16 0.796 (0.010)\n",
      "Train Accuracy:17 0.793 (0.012)\n",
      "Train Accuracy:18 0.794 (0.011)\n",
      "Train Accuracy:19 0.797 (0.013)\n",
      "Train Accuracy:20 0.792 (0.009)\n",
      "Train Accuracy:21 0.800 (0.006)\n",
      "Train Accuracy:22 0.799 (0.013)\n",
      "Train Accuracy:23 0.797 (0.007)\n",
      "Train Accuracy:24 0.793 (0.004)\n",
      "Train Accuracy:25 0.792 (0.007)\n",
      "Train Accuracy:26 0.793 (0.007)\n",
      "Train Accuracy:27 0.790 (0.008)\n",
      "Train Accuracy:28 0.792 (0.014)\n",
      "Train Accuracy:29 0.793 (0.003)\n",
      "Train Accuracy:30 0.794 (0.011)\n",
      "Train Accuracy:31 0.794 (0.011)\n",
      "Train Accuracy:32 0.793 (0.014)\n",
      "Train Accuracy:33 0.789 (0.012)\n",
      "Train Accuracy:34 0.796 (0.010)\n",
      "Train Accuracy:35 0.797 (0.012)\n",
      "Train Accuracy:36 0.798 (0.011)\n",
      "Train Accuracy:37 0.788 (0.009)\n",
      "Train Accuracy:38 0.793 (0.011)\n",
      "Train Accuracy:39 0.793 (0.013)\n",
      "Train Accuracy:40 0.795 (0.009)\n",
      "Train Accuracy:41 0.795 (0.013)\n",
      "Train Accuracy:42 0.791 (0.011)\n",
      "Train Accuracy:43 0.789 (0.007)\n",
      "Train Accuracy:44 0.799 (0.014)\n",
      "Train Accuracy:45 0.790 (0.012)\n",
      "Train Accuracy:46 0.793 (0.008)\n",
      "Train Accuracy:47 0.796 (0.010)\n",
      "Train Accuracy:48 0.790 (0.010)\n",
      "Train Accuracy:49 0.792 (0.011)\n",
      "Train Accuracy:50 0.793 (0.012)\n",
      "Train Accuracy:51 0.795 (0.010)\n",
      "Train Accuracy:52 0.791 (0.012)\n",
      "Train Accuracy:53 0.792 (0.017)\n",
      "2\n"
     ]
    }
   ],
   "source": [
    "from sklearn.tree import DecisionTreeClassifier, plot_tree\n",
    "max_depth_range=list(range(1,54))  \n",
    "list_scores = []\n",
    "list_stds= []\n",
    "for md in max_depth_range:\n",
    "    clf_tree = DecisionTreeClassifier(criterion='entropy', max_depth=md) \n",
    "    scores = cross_val_score(clf_tree ,X_train_features, y_train, scoring='accuracy', cv=cv)\n",
    "    print('Train Accuracy:%d %.3f (%.3f)' % (md,mean(scores), std(scores)))\n",
    "    list_scores.append(mean(scores))\n",
    "    list_stds.append(std(scores))\n",
    "        \n",
    "\n",
    "max_value = max(list_scores) #Return the max value of the list.\n",
    "max_index = list_scores.index(max_value) #Find the index of the max value.\n",
    "print(max_index)"
   ]
  },
  {
   "cell_type": "code",
   "execution_count": 49,
   "id": "169f2eb8",
   "metadata": {},
   "outputs": [
    {
     "data": {
      "text/plain": [
       "Text(0, 0.5, 'Cross-Validated Accuracy')"
      ]
     },
     "execution_count": 49,
     "metadata": {},
     "output_type": "execute_result"
    },
    {
     "data": {
      "image/png": "[encoded data removed]",
      "text/plain": [
       "<Figure size 432x288 with 1 Axes>"
      ]
     },
     "metadata": {
      "needs_background": "light"
     },
     "output_type": "display_data"
    }
   ],
   "source": [
    "import matplotlib.pyplot as plt\n",
    "%matplotlib inline\n",
    "\n",
    "# plot the value of K for KNN (x-axis) versus the cross-validated accuracy (y-axis)\n",
    "plt.plot(list(range(53)),list_scores)\n",
    "plt.xlabel('Value of max_depth for Decision Tree')\n",
    "plt.ylabel('Cross-Validated Accuracy')"
   ]
  },
  {
   "cell_type": "markdown",
   "id": "4445430b",
   "metadata": {},
   "source": [
    "Bester Paramter ist 3 für max_dept"
   ]
  },
  {
   "cell_type": "code",
   "execution_count": 50,
   "id": "37511fd0",
   "metadata": {},
   "outputs": [
    {
     "name": "stdout",
     "output_type": "stream",
     "text": [
      "Validation Accuracy: 0.847\n"
     ]
    }
   ],
   "source": [
    "clf_tree = DecisionTreeClassifier(criterion='entropy', max_depth=3)\n",
    "clf_tree.fit(X_train_features, y_train)\n",
    "y_pred = clf_tree.predict(X_valid_features)\n",
    "acc_score = accuracy_score(y_valid,y_pred)  \n",
    "print (\"Validation Accuracy: %.3f\" % (acc_score))"
   ]
  },
  {
   "cell_type": "code",
   "execution_count": 51,
   "id": "38c5c0c8",
   "metadata": {},
   "outputs": [
    {
     "name": "stdout",
     "output_type": "stream",
     "text": [
      "Confusion Matrix: \n",
      "  [[874  55]\n",
      " [129 142]]\n",
      "\n",
      "Precision: 0.721\n",
      "Recall: 0.524\n",
      "F-1-Score: 0.607\n"
     ]
    }
   ],
   "source": [
    "from sklearn import metrics\n",
    "print (\"Confusion Matrix: \\n \" , confusion_matrix(y_valid,y_pred))\n",
    "print()\n",
    "print(\"Precision: %.3f\" % (metrics.precision_score(y_valid, y_pred)))\n",
    "print(\"Recall: %.3f\" % (metrics.recall_score(y_valid, y_pred)))\n",
    "print(\"F-1-Score: %.3f\" % ( metrics.f1_score(y_valid, y_pred)))"
   ]
  },
  {
   "cell_type": "markdown",
   "id": "74e4e1d8",
   "metadata": {},
   "source": [
    "# SVM Classifier"
   ]
  },
  {
   "cell_type": "code",
   "execution_count": 52,
   "id": "8873e333",
   "metadata": {},
   "outputs": [
    {
     "name": "stdout",
     "output_type": "stream",
     "text": [
      "Train Accuracy:100.000 0.797 (0.014)\n",
      "Train Accuracy:10.000 0.816 (0.009)\n",
      "Train Accuracy:1.000 0.828 (0.011)\n",
      "Train Accuracy:0.100 0.795 (0.015)\n",
      "Train Accuracy:0.001 0.748 (0.015)\n",
      "2\n"
     ]
    }
   ],
   "source": [
    "from sklearn.svm import SVC\n",
    "from sklearn.pipeline import make_pipeline\n",
    "from sklearn.preprocessing import StandardScaler\n",
    "C_range=[100, 10, 1.0, 0.1, 0.001]\n",
    "list_scores = []\n",
    "list_stds= []\n",
    "for c in C_range:\n",
    "    svc  = make_pipeline(StandardScaler(), SVC(gamma='auto',C=c))\n",
    "    scores = cross_val_score(svc ,X_train_features, y_train, scoring='accuracy', cv=cv)\n",
    "    \n",
    "    print('Train Accuracy:%.3f %.3f (%.3f)' % (c,mean(scores), std(scores)))\n",
    "    list_scores.append(mean(scores))\n",
    "    list_stds.append(std(scores))\n",
    "        \n",
    "\n",
    "max_value = max(list_scores) #Return the max value of the list.\n",
    "max_index = list_scores.index(max_value) #Find the index of the max value.\n",
    "print(max_index)\n",
    "#beste immer Zahl plus 1 hier 2+1=3"
   ]
  },
  {
   "cell_type": "code",
   "execution_count": 53,
   "id": "893c0d4d",
   "metadata": {},
   "outputs": [
    {
     "data": {
      "text/plain": [
       "Text(0, 0.5, 'Cross-Validated Accuracy')"
      ]
     },
     "execution_count": 53,
     "metadata": {},
     "output_type": "execute_result"
    },
    {
     "data": {
      "image/png": "[encoded data removed]",
      "text/plain": [
       "<Figure size 432x288 with 1 Axes>"
      ]
     },
     "metadata": {
      "needs_background": "light"
     },
     "output_type": "display_data"
    }
   ],
   "source": [
    "import matplotlib.pyplot as plt\n",
    "%matplotlib inline\n",
    "\n",
    "# plot the value of K for KNN (x-axis) versus the cross-validated accuracy (y-axis)\n",
    "plt.plot(list(range(5)),list_scores)\n",
    "plt.xlabel('Value of c for SVM')\n",
    "plt.ylabel('Cross-Validated Accuracy')"
   ]
  },
  {
   "cell_type": "markdown",
   "id": "2968ffe1",
   "metadata": {},
   "source": [
    "Bester Paramter ist 1.0"
   ]
  },
  {
   "cell_type": "code",
   "execution_count": 54,
   "id": "bd66fc25",
   "metadata": {},
   "outputs": [
    {
     "name": "stdout",
     "output_type": "stream",
     "text": [
      "Validation Accuracy: 0.858\n"
     ]
    }
   ],
   "source": [
    "svc  = make_pipeline(StandardScaler(), SVC(gamma='auto',C=1.0))\n",
    "svc.fit(X_train_features,y_train)\n",
    "y_pred = svc .predict(X_valid_features)\n",
    "acc_score = accuracy_score(y_valid,y_pred)  \n",
    "print (\"Validation Accuracy: %.3f\" % (acc_score))"
   ]
  },
  {
   "cell_type": "code",
   "execution_count": 55,
   "id": "1268dc1b",
   "metadata": {},
   "outputs": [
    {
     "name": "stdout",
     "output_type": "stream",
     "text": [
      "Confusion Matrix: \n",
      "  [[872  57]\n",
      " [114 157]]\n",
      "\n",
      "Precision: 0.734\n",
      "Recall: 0.579\n",
      "F-1-Score: 0.647\n"
     ]
    }
   ],
   "source": [
    "from sklearn import metrics\n",
    "print (\"Confusion Matrix: \\n \" , confusion_matrix(y_valid,y_pred))\n",
    "print()\n",
    "print(\"Precision: %.3f\" % (metrics.precision_score(y_valid, y_pred)))\n",
    "print(\"Recall: %.3f\" % (metrics.recall_score(y_valid, y_pred)))\n",
    "print(\"F-1-Score: %.3f\" % ( metrics.f1_score(y_valid, y_pred)))"
   ]
  },
  {
   "cell_type": "markdown",
   "id": "317aef73",
   "metadata": {},
   "source": [
    "# Logistic Regression"
   ]
  },
  {
   "cell_type": "code",
   "execution_count": 56,
   "id": "6fc9f4b4",
   "metadata": {},
   "outputs": [
    {
     "name": "stdout",
     "output_type": "stream",
     "text": [
      "Train Accuracy:100.000 0.788 (0.011)\n",
      "Train Accuracy:10.000 0.788 (0.011)\n",
      "Train Accuracy:1.000 0.788 (0.011)\n",
      "Train Accuracy:0.100 0.788 (0.011)\n"
     ]
    },
    {
     "name": "stderr",
     "output_type": "stream",
     "text": [
      "/Users/anthonyfernando/opt/anaconda3/lib/python3.9/site-packages/sklearn/linear_model/_logistic.py:763: ConvergenceWarning: lbfgs failed to converge (status=1):\n",
      "STOP: TOTAL NO. of ITERATIONS REACHED LIMIT.\n",
      "\n",
      "Increase the number of iterations (max_iter) or scale the data as shown in:\n",
      "    https://scikit-learn.org/stable/modules/preprocessing.html\n",
      "Please also refer to the documentation for alternative solver options:\n",
      "    https://scikit-learn.org/stable/modules/linear_model.html#logistic-regression\n",
      "  n_iter_i = _check_optimize_result(\n",
      "/Users/anthonyfernando/opt/anaconda3/lib/python3.9/site-packages/sklearn/linear_model/_logistic.py:763: ConvergenceWarning: lbfgs failed to converge (status=1):\n",
      "STOP: TOTAL NO. of ITERATIONS REACHED LIMIT.\n",
      "\n",
      "Increase the number of iterations (max_iter) or scale the data as shown in:\n",
      "    https://scikit-learn.org/stable/modules/preprocessing.html\n",
      "Please also refer to the documentation for alternative solver options:\n",
      "    https://scikit-learn.org/stable/modules/linear_model.html#logistic-regression\n",
      "  n_iter_i = _check_optimize_result(\n"
     ]
    },
    {
     "name": "stdout",
     "output_type": "stream",
     "text": [
      "Train Accuracy:0.001 0.791 (0.011)\n",
      "4\n"
     ]
    }
   ],
   "source": [
    "from sklearn.linear_model import LogisticRegression\n",
    "C_range=[100, 10, 1.0, 0.1, 0.001]\n",
    "list_scores = []\n",
    "list_stds= []\n",
    "for c in C_range:\n",
    "    LoR = LogisticRegression(penalty=\"l2\",C=c)\n",
    "    scores = cross_val_score(LoR ,X_train_features, y_train, scoring='accuracy', cv=cv)\n",
    "    \n",
    "    print('Train Accuracy:%.3f %.3f (%.3f)' % (c,mean(scores), std(scores)))\n",
    "    list_scores.append(mean(scores))\n",
    "    list_stds.append(std(scores))\n",
    "        \n",
    "\n",
    "max_value = max(list_scores) #Return the max value of the list.\n",
    "max_index = list_scores.index(max_value) #Find the index of the max value.\n",
    "print(max_index)"
   ]
  },
  {
   "cell_type": "code",
   "execution_count": 57,
   "id": "d0276031",
   "metadata": {},
   "outputs": [
    {
     "data": {
      "text/plain": [
       "Text(0, 0.5, 'Cross-Validated Accuracy')"
      ]
     },
     "execution_count": 57,
     "metadata": {},
     "output_type": "execute_result"
    },
    {
     "data": {
      "image/png": "[encoded data removed]",
      "text/plain": [
       "<Figure size 432x288 with 1 Axes>"
      ]
     },
     "metadata": {
      "needs_background": "light"
     },
     "output_type": "display_data"
    }
   ],
   "source": [
    "import matplotlib.pyplot as plt\n",
    "%matplotlib inline\n",
    "\n",
    "# plot the value of K for KNN (x-axis) versus the cross-validated accuracy (y-axis)\n",
    "plt.plot(list(range(5)),list_scores)\n",
    "plt.xlabel('Value of C for LG')\n",
    "plt.ylabel('Cross-Validated Accuracy')"
   ]
  },
  {
   "cell_type": "markdown",
   "id": "e119f4f2",
   "metadata": {},
   "source": [
    "Bester Paramter ist 0.001"
   ]
  },
  {
   "cell_type": "code",
   "execution_count": 58,
   "id": "ababb2a6",
   "metadata": {},
   "outputs": [
    {
     "name": "stdout",
     "output_type": "stream",
     "text": [
      "Validation Accuracy: 0.803\n"
     ]
    }
   ],
   "source": [
    "LoR = LogisticRegression(penalty=\"l2\",C=0.001)\n",
    "LoR.fit(X_train_features,y_train)\n",
    "y_pred = LoR.predict(X_valid_features)\n",
    "acc_score = accuracy_score(y_valid,y_pred)  \n",
    "print (\"Validation Accuracy: %.3f\" % (acc_score))"
   ]
  },
  {
   "cell_type": "code",
   "execution_count": 59,
   "id": "fa49e708",
   "metadata": {},
   "outputs": [
    {
     "name": "stdout",
     "output_type": "stream",
     "text": [
      "Confusion Matrix: \n",
      "  [[899  30]\n",
      " [206  65]]\n",
      "\n",
      "Precision: 0.684\n",
      "Recall: 0.240\n",
      "F-1-Score: 0.355\n"
     ]
    }
   ],
   "source": [
    "from sklearn import metrics\n",
    "print (\"Confusion Matrix: \\n \" , confusion_matrix(y_valid,y_pred))\n",
    "print()\n",
    "print(\"Precision: %.3f\" % (metrics.precision_score(y_valid, y_pred)))\n",
    "print(\"Recall: %.3f\" % (metrics.recall_score(y_valid, y_pred)))\n",
    "print(\"F-1-Score: %.3f\" % ( metrics.f1_score(y_valid, y_pred)))"
   ]
  },
  {
   "cell_type": "markdown",
   "id": "3ba63319",
   "metadata": {},
   "source": [
    "# Final Model Testing"
   ]
  },
  {
   "cell_type": "markdown",
   "id": "b361288f",
   "metadata": {},
   "source": [
    "Es wurde sich für SVC entschieden"
   ]
  },
  {
   "cell_type": "code",
   "execution_count": 65,
   "id": "beff9d5b",
   "metadata": {},
   "outputs": [],
   "source": [
    "predictions = svc.predict(X_test_features)"
   ]
  },
  {
   "cell_type": "code",
   "execution_count": 66,
   "id": "a7020c6a",
   "metadata": {},
   "outputs": [
    {
     "name": "stdout",
     "output_type": "stream",
     "text": [
      "Test Accuracy: 0.836\n",
      "\n",
      "Confusion Matrix: \n",
      "  [[705  50]\n",
      " [114 131]]\n",
      "\n",
      "Precision: 0.724\n",
      "Recall: 0.535\n",
      "F-1-Score: 0.615\n"
     ]
    }
   ],
   "source": [
    "acc_score = accuracy_score(y_test,predictions)  \n",
    "print (\"Test Accuracy: %.3f\" % (acc_score))\n",
    "print()\n",
    "print (\"Confusion Matrix: \\n \" , confusion_matrix(y_test,predictions))\n",
    "print()\n",
    "print(\"Precision: %.3f\" % (metrics.precision_score(y_test,predictions)))\n",
    "print(\"Recall: %.3f\" % (metrics.recall_score(y_test,predictions)))\n",
    "print(\"F-1-Score: %.3f\" % ( metrics.f1_score(y_test,predictions)))"
   ]
  },
  {
   "cell_type": "code",
   "execution_count": 67,
   "id": "2c18e39c",
   "metadata": {},
   "outputs": [
    {
     "data": {
      "image/png": "[encoded data removed]",
      "text/plain": [
       "<Figure size 432x288 with 2 Axes>"
      ]
     },
     "metadata": {
      "needs_background": "light"
     },
     "output_type": "display_data"
    },
    {
     "name": "stdout",
     "output_type": "stream",
     "text": [
      "              precision    recall  f1-score   support\n",
      "\n",
      "           0       0.86      0.93      0.90       755\n",
      "           1       0.72      0.53      0.62       245\n",
      "\n",
      "    accuracy                           0.84      1000\n",
      "   macro avg       0.79      0.73      0.76      1000\n",
      "weighted avg       0.83      0.84      0.83      1000\n",
      "\n"
     ]
    }
   ],
   "source": [
    "#https://www.jcchouinard.com/confusion-matrix-in-scikit-learn/\n",
    "from sklearn.metrics import plot_confusion_matrix\n",
    "from sklearn.metrics import classification_report\n",
    "plot_confusion_matrix(svc, X_test_features, y_test, cmap=plt.cm.Blues)\n",
    "plt.show()\n",
    "\n",
    "print(classification_report(y_test,predictions))"
   ]
  },
  {
   "cell_type": "markdown",
   "id": "14c60fba",
   "metadata": {},
   "source": [
    "# Plottong ROC und Berechnung AUC"
   ]
  },
  {
   "cell_type": "code",
   "execution_count": 70,
   "id": "7a6b00a4",
   "metadata": {},
   "outputs": [
    {
     "data": {
      "text/plain": [
       "<sklearn.metrics._plot.roc_curve.RocCurveDisplay at 0x7f8d9277f550>"
      ]
     },
     "execution_count": 70,
     "metadata": {},
     "output_type": "execute_result"
    },
    {
     "data": {
      "image/png": "[encoded data removed]",
      "text/plain": [
       "<Figure size 432x288 with 1 Axes>"
      ]
     },
     "metadata": {
      "needs_background": "light"
     },
     "output_type": "display_data"
    }
   ],
   "source": [
    "from sklearn import datasets, metrics, model_selection\n",
    "metrics.plot_roc_curve(svc, X_test_features, y_test) \n",
    "\n",
    "# It tells how much the model is capable of distinguishing between classes.\n",
    "#Higher the AUC, the better the model is at predicting 0 classes as 0 and 1 classes as 1.\n",
    "#By analogy, the Higher the AUC, the better the model is at distinguishing between patients with the disease and no disease."
   ]
  },
  {
   "cell_type": "code",
   "execution_count": 71,
   "id": "92b4f375",
   "metadata": {},
   "outputs": [],
   "source": [
    "X_25000_features = df_25000[important_features]"
   ]
  },
  {
   "cell_type": "code",
   "execution_count": 72,
   "id": "e1e536fd",
   "metadata": {},
   "outputs": [
    {
     "data": {
      "text/plain": [
       "(24982, 53)"
      ]
     },
     "execution_count": 72,
     "metadata": {},
     "output_type": "execute_result"
    }
   ],
   "source": [
    "X_25000_features.shape"
   ]
  },
  {
   "cell_type": "code",
   "execution_count": 73,
   "id": "c89f979b",
   "metadata": {},
   "outputs": [],
   "source": [
    "Final_predictions25000 = svc.predict(X_25000_features)"
   ]
  },
  {
   "cell_type": "code",
   "execution_count": 74,
   "id": "0a8f4ae9",
   "metadata": {},
   "outputs": [],
   "source": [
    "df_Final_predictions25000= pd.DataFrame(Final_predictions25000, columns=['Income'])"
   ]
  },
  {
   "cell_type": "code",
   "execution_count": 75,
   "id": "9d6e685d",
   "metadata": {},
   "outputs": [
    {
     "data": {
      "text/html": [
       "<div>\n",
       "<style scoped>\n",
       "    .dataframe tbody tr th:only-of-type {\n",
       "        vertical-align: middle;\n",
       "    }\n",
       "\n",
       "    .dataframe tbody tr th {\n",
       "        vertical-align: top;\n",
       "    }\n",
       "\n",
       "    .dataframe thead th {\n",
       "        text-align: right;\n",
       "    }\n",
       "</style>\n",
       "<table border=\"1\" class=\"dataframe\">\n",
       "  <thead>\n",
       "    <tr style=\"text-align: right;\">\n",
       "      <th></th>\n",
       "      <th>Income</th>\n",
       "    </tr>\n",
       "  </thead>\n",
       "  <tbody>\n",
       "    <tr>\n",
       "      <th>0</th>\n",
       "      <td>1</td>\n",
       "    </tr>\n",
       "    <tr>\n",
       "      <th>1</th>\n",
       "      <td>0</td>\n",
       "    </tr>\n",
       "    <tr>\n",
       "      <th>2</th>\n",
       "      <td>1</td>\n",
       "    </tr>\n",
       "    <tr>\n",
       "      <th>3</th>\n",
       "      <td>0</td>\n",
       "    </tr>\n",
       "    <tr>\n",
       "      <th>4</th>\n",
       "      <td>0</td>\n",
       "    </tr>\n",
       "    <tr>\n",
       "      <th>...</th>\n",
       "      <td>...</td>\n",
       "    </tr>\n",
       "    <tr>\n",
       "      <th>24977</th>\n",
       "      <td>0</td>\n",
       "    </tr>\n",
       "    <tr>\n",
       "      <th>24978</th>\n",
       "      <td>0</td>\n",
       "    </tr>\n",
       "    <tr>\n",
       "      <th>24979</th>\n",
       "      <td>0</td>\n",
       "    </tr>\n",
       "    <tr>\n",
       "      <th>24980</th>\n",
       "      <td>0</td>\n",
       "    </tr>\n",
       "    <tr>\n",
       "      <th>24981</th>\n",
       "      <td>0</td>\n",
       "    </tr>\n",
       "  </tbody>\n",
       "</table>\n",
       "<p>24982 rows × 1 columns</p>\n",
       "</div>"
      ],
      "text/plain": [
       "       Income\n",
       "0           1\n",
       "1           0\n",
       "2           1\n",
       "3           0\n",
       "4           0\n",
       "...       ...\n",
       "24977       0\n",
       "24978       0\n",
       "24979       0\n",
       "24980       0\n",
       "24981       0\n",
       "\n",
       "[24982 rows x 1 columns]"
      ]
     },
     "execution_count": 75,
     "metadata": {},
     "output_type": "execute_result"
    }
   ],
   "source": [
    "df_Final_predictions25000"
   ]
  },
  {
   "cell_type": "code",
   "execution_count": 76,
   "id": "5c6e0a05",
   "metadata": {},
   "outputs": [
    {
     "name": "stderr",
     "output_type": "stream",
     "text": [
      "/var/folders/88/lkbjvmyj48n6h04_m1x2v3km0000gn/T/ipykernel_6778/3759895927.py:1: SettingWithCopyWarning: \n",
      "A value is trying to be set on a copy of a slice from a DataFrame.\n",
      "Try using .loc[row_indexer,col_indexer] = value instead\n",
      "\n",
      "See the caveats in the documentation: https://pandas.pydata.org/pandas-docs/stable/user_guide/indexing.html#returning-a-view-versus-a-copy\n",
      "  df_25000['Income'] = df_Final_predictions25000['Income'].values\n"
     ]
    }
   ],
   "source": [
    "df_25000['Income'] = df_Final_predictions25000['Income'].values"
   ]
  },
  {
   "cell_type": "code",
   "execution_count": 77,
   "id": "ab1edede",
   "metadata": {},
   "outputs": [],
   "source": [
    "frames_new = [df_25000,df_5000 ]\n",
    "\n",
    "result_new = pd.concat(frames_new)"
   ]
  },
  {
   "cell_type": "code",
   "execution_count": 78,
   "id": "f9e46895",
   "metadata": {},
   "outputs": [
    {
     "data": {
      "text/plain": [
       "<AxesSubplot:xlabel='Income', ylabel='count'>"
      ]
     },
     "execution_count": 78,
     "metadata": {},
     "output_type": "execute_result"
    },
    {
     "data": {
      "image/png": "[encoded data removed]",
      "text/plain": [
       "<Figure size 432x288 with 1 Axes>"
      ]
     },
     "metadata": {
      "needs_background": "light"
     },
     "output_type": "display_data"
    }
   ],
   "source": [
    "sns.countplot(x=\"Income\",data=df_25000)"
   ]
  },
  {
   "cell_type": "code",
   "execution_count": 79,
   "id": "39fa58e4",
   "metadata": {},
   "outputs": [
    {
     "data": {
      "text/plain": [
       "<AxesSubplot:xlabel='Income', ylabel='count'>"
      ]
     },
     "execution_count": 79,
     "metadata": {},
     "output_type": "execute_result"
    },
    {
     "data": {
      "image/png": "[encoded data removed]",
      "text/plain": [
       "<Figure size 432x288 with 1 Axes>"
      ]
     },
     "metadata": {
      "needs_background": "light"
     },
     "output_type": "display_data"
    }
   ],
   "source": [
    "sns.countplot(x=\"Income\",data=df_5000)"
   ]
  },
  {
   "cell_type": "code",
   "execution_count": 80,
   "id": "e3c110fb",
   "metadata": {},
   "outputs": [
    {
     "data": {
      "text/plain": [
       "<AxesSubplot:xlabel='Income', ylabel='count'>"
      ]
     },
     "execution_count": 80,
     "metadata": {},
     "output_type": "execute_result"
    },
    {
     "data": {
      "image/png": "[encoded data removed]",
      "text/plain": [
       "<Figure size 432x288 with 1 Axes>"
      ]
     },
     "metadata": {
      "needs_background": "light"
     },
     "output_type": "display_data"
    }
   ],
   "source": [
    "sns.countplot(x=\"Income\",data=result_new)"
   ]
  },
  {
   "cell_type": "code",
   "execution_count": 81,
   "id": "1736e912",
   "metadata": {},
   "outputs": [
    {
     "name": "stdout",
     "output_type": "stream",
     "text": [
      "0    20363\n",
      "1     4619\n",
      "Name: Income, dtype: int64\n",
      "0    3778\n",
      "1    1221\n",
      "Name: Income, dtype: int64\n",
      "0    24141\n",
      "1     5840\n",
      "Name: Income, dtype: int64\n"
     ]
    }
   ],
   "source": [
    "print(df_25000[\"Income\"].value_counts())\n",
    "print(df_5000[\"Income\"].value_counts())\n",
    "print(result_new[\"Income\"].value_counts())"
   ]
  },
  {
   "cell_type": "code",
   "execution_count": 82,
   "id": "c4d502d2",
   "metadata": {},
   "outputs": [
    {
     "name": "stdout",
     "output_type": "stream",
     "text": [
      "0    0.815107\n",
      "1    0.184893\n",
      "Name: Income, dtype: float64\n",
      "0    0.755751\n",
      "1    0.244249\n",
      "Name: Income, dtype: float64\n",
      "0    0.80521\n",
      "1    0.19479\n",
      "Name: Income, dtype: float64\n"
     ]
    }
   ],
   "source": [
    "print(df_25000[\"Income\"].value_counts()/len(df_25000))\n",
    "print(df_5000[\"Income\"].value_counts()/len(df_5000))\n",
    "print(result_new[\"Income\"].value_counts()/len(result_new))"
   ]
  },
  {
   "cell_type": "markdown",
   "id": "b06c45ae",
   "metadata": {},
   "source": [
    "Dieses mal mehr 1 generiert"
   ]
  }
 ],
 "metadata": {
  "kernelspec": {
   "display_name": "Python 3 (ipykernel)",
   "language": "python",
   "name": "python3"
  },
  "language_info": {
   "codemirror_mode": {
    "name": "ipython",
    "version": 3
   },
   "file_extension": ".py",
   "mimetype": "text/x-python",
   "name": "python",
   "nbconvert_exporter": "python",
   "pygments_lexer": "ipython3",
   "version": "3.9.7"
  }
 },
 "nbformat": 4,
 "nbformat_minor": 5
}
